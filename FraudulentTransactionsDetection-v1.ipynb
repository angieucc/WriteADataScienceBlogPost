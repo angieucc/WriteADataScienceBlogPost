{
 "cells": [
  {
   "cell_type": "markdown",
   "metadata": {
    "_cell_guid": "c7b45d97-d213-4bff-a39a-fb973be3d1c2",
    "_uuid": "40baadcf98e87b9fa263ec2c80804a6298d6472e"
   },
   "source": [
    "Author: Angelina Espinoza-Limon\n",
    "\n",
    "Project 1.\n",
    "\n",
    "This project presents the CRISP-DM process for the financial data analysis in order to identifying what is the behaviour of the variables, which affect the identification of suspicious transactions from raw data. Several business questions are defined to guide the analysis that will be answered through this analysis. Thereafter, it is firstly analysed the data to find out which variables are mostly affecting the fraud detection, and then to model a suitable machine learning algorithm. This analysis include to perform a bias-variance trade-off to evaluate the model precision, through the AUPRC error score curve. \n",
    "\n",
    "The dataset to be used in this analysis is a synthetic dataset <a href='https://www.researchgate.net/publication/313138956_PAYSIM_A_FINANCIAL_MOBILE_MONEY_SIMULATOR_FOR_FRAUD_DETECTION'>[1]</a> which has been created with an agent-based simulator based on \"a sample of real transactions extracted from the logs of a mobile money service implemented in an African country\" <a href='https://www.researchgate.net/publication/313138956_PAYSIM_A_FINANCIAL_MOBILE_MONEY_SIMULATOR_FOR_FRAUD_DETECTION'>[1]</a>."
   ]
  },
  {
   "cell_type": "markdown",
   "metadata": {
    "_cell_guid": "a58a2de7-d514-49f1-bfd4-a170d073fc58",
    "_uuid": "b08b5ca36efff32b32e4c77d1ec858a15e7469c5"
   },
   "source": [
    "<a id='top'></a>\n",
    "\n",
    "#### Project 1: CRISP-DM for Identifying Fraudulent Transactions \n",
    "#### 1. <a href='#BusinessUnders'>Business Understanding</a>\n",
    "\n",
    "\n",
    "#### 2. <a href='#dataunders'>Data Understanding</a>\n",
    "21. <a href='#datagathering'>Data Gathering</a>\n",
    "22. <a href='#datacleaning'>Data Cleaning</a>\n",
    "23. <a href='#missingvalues'>Managing Missing Values</a>\n",
    "24. <a href='#analysingdata'>Analysing the Data</a>\n",
    "\n",
    "#### 3. <a href='#datapreparation'>Data Preparation</a>\n",
    "31. <a href='#dataremoval'>Data Removal</a>\n",
    "32. <a href='#dataimputation'>Data Imputation</a>\n",
    "32. <a href='#featureEng'>Feature Engineering</a>\n",
    "\n",
    "#### 4. <a href='#modeling'>Modeling</a>\n",
    "41. <a href='#ModelSelection'>Model Selection</a>\n",
    "41. <a href='#ModelTraining'>Model Training and Testing</a>\n",
    "42. <a href='#ModelVisualization'>Model Visualization</a>\n",
    "\n",
    "#### 5. <a href='#evaluation'>Evaluation</a>\n",
    "51. <a href='#biasvariance'>Bias-variance tradeoff</a>\n",
    "\n",
    "#### 6. <a href='#deployment'>Deployment</a>\n",
    "\n",
    "#### 7. <a href='#conclusion'>Conclusion</a>"
   ]
  },
  {
   "cell_type": "markdown",
   "metadata": {},
   "source": [
    "<a id='BusinessUnders'></a>\n",
    "#### 1. Business Understanding\n",
    "<p> In this section, it is defined the Business Questions to guide the analysis for fraud detection on financial data, as follows: </p> \n",
    "<a href='#MainChallenge'>1.1 What is the main challenge in monitoring suspicious transactions as fraud in financial institutions?</a>\n",
    "<p> <a href='#fraud-bigAmount'>1.2 Do mostly fraudulent transactions occur with big amounts of money?</a>\n",
    "<p> <a href='#fraud-CashOut'>1.3 Do mostly common fraudulent transactions occur in cash out?</a>\n",
    "<p> <a href='#fraud-indicator'>1.4 What could be a fraud indicator?</a>\n",
    "<p> <a href='#fraud-preds'>1.5 Is it possible to predict that a specific transaction is suspicious of fraud?</a>"
   ]
  },
  {
   "cell_type": "markdown",
   "metadata": {},
   "source": [
    "<a id='dataunders'></a>\n",
    "#### 2. Data Understanding\n",
    "In this section, it will be explored different perspectives to analyse the dataset, in order to discover the features that mostly influence a fraudulent transaction. Also this analysis will provide some insights to answer the business questions. For this analysis, it will be used the Dataframe functions."
   ]
  },
  {
   "cell_type": "code",
   "execution_count": 1,
   "metadata": {
    "_cell_guid": "03afcaca-4105-4c95-9a38-9a922f592814",
    "_uuid": "f936a10915bc042e678e1148923e493f92b518c3"
   },
   "outputs": [],
   "source": [
    "import pandas as pd\n",
    "import numpy as np\n",
    "import seaborn as sns\n",
    "%matplotlib inline\n",
    "import matplotlib.pyplot as plt\n",
    "import matplotlib.lines as mlines\n",
    "from mpl_toolkits.mplot3d import Axes3D\n",
    "\n",
    "from sklearn.model_selection import train_test_split, learning_curve\n",
    "from sklearn.metrics import average_precision_score\n",
    "\n",
    "from xgboost.sklearn import XGBClassifier\n",
    "from xgboost import plot_importance, to_graphviz\n",
    "\n",
    "import os"
   ]
  },
  {
   "cell_type": "code",
   "execution_count": 2,
   "metadata": {
    "_cell_guid": "9bc1119f-d883-4cc6-b569-a707359abe01",
    "_uuid": "b7a3f0c8714f9e3d78a898a014f5ad81ecee1063"
   },
   "outputs": [],
   "source": [
    "import warnings\n",
    "warnings.filterwarnings(\"ignore\", category=DeprecationWarning)"
   ]
  },
  {
   "cell_type": "markdown",
   "metadata": {},
   "source": [
    "<a id='datagathering'></a>\n",
    "#### 2.1 Data Gathering\n"
   ]
  },
  {
   "cell_type": "markdown",
   "metadata": {
    "_cell_guid": "da58e56c-7ba7-46b2-8b84-d1bcea8c7e42",
    "_uuid": "435ddb566ca27f5ce720f0fcb52e62e99dc829dd"
   },
   "source": [
    "The dataset to be used is synthetic data produced with an agent-based simulation software, which uses an orignial and real dataset as baseline to generate more than 6 million of financial transactions. This dataset is introduced and documented by its authors in: E. A. Lopez-Rojas , A. Elmir, and S. Axelsson. \"PaySim: A financial mobile money simulator for fraud detection\", in the 28th European Modeling and Simulation Symposium-EMSS, Larnaca, Cyprus. 2016. \n",
    "The dataset is available in Kaggle: https://www.kaggle.com/ntnu-testimon/paysim1\n",
    "\n",
    "Therefore, the data gathering is already done by the authors of this dataset. \n",
    "\n",
    "In the following there are the columns renaming, in order to use a more meaningful column name, according to the financial transaction domain."
   ]
  },
  {
   "cell_type": "code",
   "execution_count": 3,
   "metadata": {
    "_cell_guid": "9dc91648-ab99-44c3-a1f1-bea967df390f",
    "_uuid": "6e1110dd564e4a38eb9d8e83c4575dcc3d26abe8",
    "scrolled": true
   },
   "outputs": [],
   "source": [
    "#arc_datos= open(os.getcwd()+'\\\\iris.data','r')\n",
    "df = pd.read_csv(\"D:\\\\Angie\\Trainings\\\\Cursados\\\\UCSC-Udacity\\\\Project1\\\\Data\\\\PS_20174392719_1491204439457_log-full.csv\", low_memory=False, dtype={\"oldBalanceDest\": np.float64, \"newBalanceDest\": np.float64})\n",
    "df = df.rename(columns={'step':'Step', 'type':'TransactionType', 'amount':'Amount',  'nameOrig':'OriginAccount', \\\n",
    "                        'oldbalanceOrg':'OldBalanceOrigin', 'newbalanceOrig':'NewBalanceOrigin', 'nameDest':'DestinationAccount',\\\n",
    "                        'oldbalanceDest':'OldBalanceDestination', 'newbalanceDest':'NewBalanceDestination'})\n"
   ]
  },
  {
   "cell_type": "code",
   "execution_count": 4,
   "metadata": {},
   "outputs": [
    {
     "name": "stdout",
     "output_type": "stream",
     "text": [
      "6362620\n"
     ]
    },
    {
     "data": {
      "text/html": [
       "<div>\n",
       "<style scoped>\n",
       "    .dataframe tbody tr th:only-of-type {\n",
       "        vertical-align: middle;\n",
       "    }\n",
       "\n",
       "    .dataframe tbody tr th {\n",
       "        vertical-align: top;\n",
       "    }\n",
       "\n",
       "    .dataframe thead th {\n",
       "        text-align: right;\n",
       "    }\n",
       "</style>\n",
       "<table border=\"1\" class=\"dataframe\">\n",
       "  <thead>\n",
       "    <tr style=\"text-align: right;\">\n",
       "      <th></th>\n",
       "      <th>Step</th>\n",
       "      <th>TransactionType</th>\n",
       "      <th>Amount</th>\n",
       "      <th>OriginAccount</th>\n",
       "      <th>OldBalanceOrigin</th>\n",
       "      <th>NewBalanceOrigin</th>\n",
       "      <th>DestinationAccount</th>\n",
       "      <th>OldBalanceDestination</th>\n",
       "      <th>NewBalanceDestination</th>\n",
       "      <th>isFraud</th>\n",
       "      <th>isFlaggedFraud</th>\n",
       "    </tr>\n",
       "  </thead>\n",
       "  <tbody>\n",
       "    <tr>\n",
       "      <th>0</th>\n",
       "      <td>1</td>\n",
       "      <td>PAYMENT</td>\n",
       "      <td>9839.64</td>\n",
       "      <td>C1231006815</td>\n",
       "      <td>170136.0</td>\n",
       "      <td>160296.36</td>\n",
       "      <td>M1979787155</td>\n",
       "      <td>0.0</td>\n",
       "      <td>0.0</td>\n",
       "      <td>0</td>\n",
       "      <td>0</td>\n",
       "    </tr>\n",
       "    <tr>\n",
       "      <th>1</th>\n",
       "      <td>1</td>\n",
       "      <td>PAYMENT</td>\n",
       "      <td>1864.28</td>\n",
       "      <td>C1666544295</td>\n",
       "      <td>21249.0</td>\n",
       "      <td>19384.72</td>\n",
       "      <td>M2044282225</td>\n",
       "      <td>0.0</td>\n",
       "      <td>0.0</td>\n",
       "      <td>0</td>\n",
       "      <td>0</td>\n",
       "    </tr>\n",
       "    <tr>\n",
       "      <th>2</th>\n",
       "      <td>1</td>\n",
       "      <td>TRANSFER</td>\n",
       "      <td>181.00</td>\n",
       "      <td>C1305486145</td>\n",
       "      <td>181.0</td>\n",
       "      <td>0.00</td>\n",
       "      <td>C553264065</td>\n",
       "      <td>0.0</td>\n",
       "      <td>0.0</td>\n",
       "      <td>1</td>\n",
       "      <td>0</td>\n",
       "    </tr>\n",
       "    <tr>\n",
       "      <th>3</th>\n",
       "      <td>1</td>\n",
       "      <td>CASH_OUT</td>\n",
       "      <td>181.00</td>\n",
       "      <td>C840083671</td>\n",
       "      <td>181.0</td>\n",
       "      <td>0.00</td>\n",
       "      <td>C38997010</td>\n",
       "      <td>21182.0</td>\n",
       "      <td>0.0</td>\n",
       "      <td>1</td>\n",
       "      <td>0</td>\n",
       "    </tr>\n",
       "    <tr>\n",
       "      <th>4</th>\n",
       "      <td>1</td>\n",
       "      <td>PAYMENT</td>\n",
       "      <td>11668.14</td>\n",
       "      <td>C2048537720</td>\n",
       "      <td>41554.0</td>\n",
       "      <td>29885.86</td>\n",
       "      <td>M1230701703</td>\n",
       "      <td>0.0</td>\n",
       "      <td>0.0</td>\n",
       "      <td>0</td>\n",
       "      <td>0</td>\n",
       "    </tr>\n",
       "  </tbody>\n",
       "</table>\n",
       "</div>"
      ],
      "text/plain": [
       "   Step TransactionType    Amount OriginAccount  OldBalanceOrigin  \\\n",
       "0     1         PAYMENT   9839.64   C1231006815          170136.0   \n",
       "1     1         PAYMENT   1864.28   C1666544295           21249.0   \n",
       "2     1        TRANSFER    181.00   C1305486145             181.0   \n",
       "3     1        CASH_OUT    181.00    C840083671             181.0   \n",
       "4     1         PAYMENT  11668.14   C2048537720           41554.0   \n",
       "\n",
       "   NewBalanceOrigin DestinationAccount  OldBalanceDestination  \\\n",
       "0         160296.36        M1979787155                    0.0   \n",
       "1          19384.72        M2044282225                    0.0   \n",
       "2              0.00         C553264065                    0.0   \n",
       "3              0.00          C38997010                21182.0   \n",
       "4          29885.86        M1230701703                    0.0   \n",
       "\n",
       "   NewBalanceDestination  isFraud  isFlaggedFraud  \n",
       "0                    0.0        0               0  \n",
       "1                    0.0        0               0  \n",
       "2                    0.0        1               0  \n",
       "3                    0.0        1               0  \n",
       "4                    0.0        0               0  "
      ]
     },
     "execution_count": 4,
     "metadata": {},
     "output_type": "execute_result"
    }
   ],
   "source": [
    "# Printing out the records number in the dataset and the head\n",
    "print(df.shape[0])\n",
    "df.head()"
   ]
  },
  {
   "cell_type": "markdown",
   "metadata": {},
   "source": [
    "<a id='datacleaning'></a>\n",
    "#### 2.2 Data Cleaning\n"
   ]
  },
  {
   "cell_type": "code",
   "execution_count": 5,
   "metadata": {},
   "outputs": [
    {
     "data": {
      "text/plain": [
       "Step                       int64\n",
       "TransactionType           object\n",
       "Amount                   float64\n",
       "OriginAccount             object\n",
       "OldBalanceOrigin         float64\n",
       "NewBalanceOrigin         float64\n",
       "DestinationAccount        object\n",
       "OldBalanceDestination    float64\n",
       "NewBalanceDestination    float64\n",
       "isFraud                    int64\n",
       "isFlaggedFraud             int64\n",
       "dtype: object"
      ]
     },
     "execution_count": 5,
     "metadata": {},
     "output_type": "execute_result"
    }
   ],
   "source": [
    "# To obtain the columns datatypes\n",
    "df.dtypes"
   ]
  },
  {
   "cell_type": "code",
   "execution_count": 6,
   "metadata": {},
   "outputs": [
    {
     "data": {
      "text/plain": [
       "Step                       int64\n",
       "TransactionType           string\n",
       "Amount                   float64\n",
       "OriginAccount             string\n",
       "OldBalanceOrigin         float64\n",
       "NewBalanceOrigin         float64\n",
       "DestinationAccount        string\n",
       "OldBalanceDestination    float64\n",
       "NewBalanceDestination    float64\n",
       "isFraud                     bool\n",
       "isFlaggedFraud              bool\n",
       "dtype: object"
      ]
     },
     "execution_count": 6,
     "metadata": {},
     "output_type": "execute_result"
    }
   ],
   "source": [
    "# To change the columns types from object to string and bool, according to the columns meaning\n",
    "\n",
    "# This column indicates the transaction type: CASH-IN, CASH-OUT, DEBIT, PAYMENT and TRANSFER\n",
    "df['TransactionType'] = df['TransactionType'].astype(dtype='string')\n",
    "\n",
    "# This column indicates the account number in the origin institution\n",
    "df['OriginAccount'] = df['OriginAccount'].astype(dtype='string')\n",
    "\n",
    "# This column indicates the account number in the destination institution\n",
    "df['DestinationAccount'] = df['DestinationAccount'].astype(dtype='string')\n",
    "\n",
    "# This column indicates if the transaction is fraud, so it is a boolean\n",
    "df['isFraud'] = df['isFraud'].astype(dtype='bool') \n",
    "\n",
    "# This column indicates if the transaction was set as fraud during the transaction occurrence, so it is a boolean\n",
    "df['isFlaggedFraud'] = df['isFlaggedFraud'].astype(dtype='bool') \n",
    "\n",
    "df.dtypes"
   ]
  },
  {
   "cell_type": "markdown",
   "metadata": {},
   "source": [
    "<a id='missingvalues'></a>\n",
    "#### 2.3 Managing Missing values\n",
    "The following code tests if there are missing values in the dataset. The results indicate that there are no\n",
    "missing values (e.g. nan's); however, it is still possible that some transactions have the number zero in the account balances, but I will keep these ones to avoid hidding financial reasons in this situations. This will be analysed later on in this notebook."
   ]
  },
  {
   "cell_type": "code",
   "execution_count": 7,
   "metadata": {
    "_cell_guid": "665e996b-39b8-4f47-bb2a-6a31643cde22",
    "_uuid": "4b7ffd4888d1df69961a0f2a58aa5102e694bc8b"
   },
   "outputs": [
    {
     "data": {
      "text/plain": [
       "False"
      ]
     },
     "execution_count": 7,
     "metadata": {},
     "output_type": "execute_result"
    }
   ],
   "source": [
    "# To find out how many null values the dataframe has.\n",
    "df.isnull().values.any()"
   ]
  },
  {
   "cell_type": "markdown",
   "metadata": {
    "_cell_guid": "ee5bc661-4f56-47f0-8771-9d033a17f347",
    "_uuid": "f1de48b059ede362e51020b263b01ed1f2dda83d"
   },
   "source": [
    "<a href='#top'>back to top</a>"
   ]
  },
  {
   "cell_type": "markdown",
   "metadata": {},
   "source": [
    "<a id='analysingdata'></a>\n",
    "#### 2.4 Analysing the Data"
   ]
  },
  {
   "cell_type": "markdown",
   "metadata": {},
   "source": [
    "For responding the question: \n",
    "<a id='MainChallenge'>1.1 What is the main challenge in monitoring suspicious transactions as fraud in financial institutions?</a>\n",
    "\n",
    "We will see through the next code, that one of the main challenges that poses the fruad identification is the imbalance of the data. Basically, more than 99% of the data correspond to valid transactions (no fraud), and just the remaining is corresponding to fraud ones. In this scenario and for modeling a ML algorithm, this data need to be prepared with suitable strategies for this kind of skewed data."
   ]
  },
  {
   "cell_type": "code",
   "execution_count": 8,
   "metadata": {},
   "outputs": [
    {
     "name": "stdout",
     "output_type": "stream",
     "text": [
      "\n",
      " The average of fraudulent transactions is 0.13%\n",
      "\n",
      " The average of non-fraudulent transactions is 99.87%\n"
     ]
    }
   ],
   "source": [
    "# Get the mean of the fraud transactions\n",
    "print('\\n The average of fraudulent transactions is {}%'.format( round( ((df['isFraud'].mean())*100), 2)))\n",
    "\n",
    "# Get the mean of the no-fraud transactions\n",
    "print('\\n The average of non-fraudulent transactions is {}%'.format(\\\n",
    "    round((df[(df.isFraud == 0)]['isFraud'].count()/df.shape[0]) * 100,2) ))"
   ]
  },
  {
   "cell_type": "code",
   "execution_count": 9,
   "metadata": {},
   "outputs": [
    {
     "name": "stdout",
     "output_type": "stream",
     "text": [
      "\n",
      " The fraudulent transactions is 8213\n",
      "\n",
      " The non-fraudulent transactions is 6354407\n"
     ]
    }
   ],
   "source": [
    "print('\\n The fraudulent transactions is {}'.format(df[(df.isFraud == 1)]['isFraud'].count() ) )\n",
    "print('\\n The non-fraudulent transactions is {}'.format(df[(df.isFraud == 0)]['isFraud'].count() ) )"
   ]
  },
  {
   "cell_type": "code",
   "execution_count": 10,
   "metadata": {},
   "outputs": [
    {
     "data": {
      "text/plain": [
       "<AxesSubplot:xlabel='isFraud'>"
      ]
     },
     "execution_count": 10,
     "metadata": {},
     "output_type": "execute_result"
    },
    {
     "data": {
      "image/png": "[encoded data removed]",
      "text/plain": [
       "<Figure size 360x216 with 1 Axes>"
      ]
     },
     "metadata": {
      "needs_background": "light"
     },
     "output_type": "display_data"
    }
   ],
   "source": [
    "plotdata = df[['TransactionType','isFraud']]\n",
    "\n",
    "#plotdata.count().plot(kind='bar', stacked=True)\n",
    "plotdata.groupby(['isFraud']).count().plot(kind='bar', color=['purple'], figsize=(5,3))"
   ]
  },
  {
   "cell_type": "code",
   "execution_count": 11,
   "metadata": {},
   "outputs": [
    {
     "data": {
      "text/plain": [
       "<AxesSubplot:xlabel='isFraud', ylabel='Amount'>"
      ]
     },
     "execution_count": 11,
     "metadata": {},
     "output_type": "execute_result"
    },
    {
     "data": {
      "image/png": "[encoded data removed]",
      "text/plain": [
       "<Figure size 576x360 with 1 Axes>"
      ]
     },
     "metadata": {
      "needs_background": "light"
     },
     "output_type": "display_data"
    }
   ],
   "source": [
    "# To plot the transactions against the transacted amount, indicating the fraudulent ones.\n",
    "plt.figure(figsize=(8,5))\n",
    "sns.boxplot(x = 'isFraud', y = 'Amount', hue= \"TransactionType\", data = df[df.Amount < 1e6], palette=\"Set3\")"
   ]
  },
  {
   "cell_type": "markdown",
   "metadata": {},
   "source": [
    "The following code analyses how many transactions were originally set as fraud in the dataset. For this, the isFlaggedFraud column is used.\n",
    "\n",
    "It can be observed that from the entire dataset with more than 6 million of transactions, only 16 of them were set as fraudelent during the transaction occurence."
   ]
  },
  {
   "cell_type": "code",
   "execution_count": 12,
   "metadata": {},
   "outputs": [
    {
     "name": "stdout",
     "output_type": "stream",
     "text": [
      "\n",
      " The number of transactions that have been set while occurring is 16 which are printed out as follows:\n"
     ]
    },
    {
     "data": {
      "text/html": [
       "<div>\n",
       "<style scoped>\n",
       "    .dataframe tbody tr th:only-of-type {\n",
       "        vertical-align: middle;\n",
       "    }\n",
       "\n",
       "    .dataframe tbody tr th {\n",
       "        vertical-align: top;\n",
       "    }\n",
       "\n",
       "    .dataframe thead th {\n",
       "        text-align: right;\n",
       "    }\n",
       "</style>\n",
       "<table border=\"1\" class=\"dataframe\">\n",
       "  <thead>\n",
       "    <tr style=\"text-align: right;\">\n",
       "      <th></th>\n",
       "      <th>Step</th>\n",
       "      <th>TransactionType</th>\n",
       "      <th>Amount</th>\n",
       "      <th>OriginAccount</th>\n",
       "      <th>OldBalanceOrigin</th>\n",
       "      <th>NewBalanceOrigin</th>\n",
       "      <th>DestinationAccount</th>\n",
       "      <th>OldBalanceDestination</th>\n",
       "      <th>NewBalanceDestination</th>\n",
       "      <th>isFraud</th>\n",
       "      <th>isFlaggedFraud</th>\n",
       "    </tr>\n",
       "  </thead>\n",
       "  <tbody>\n",
       "    <tr>\n",
       "      <th>2736446</th>\n",
       "      <td>212</td>\n",
       "      <td>TRANSFER</td>\n",
       "      <td>4953893.08</td>\n",
       "      <td>C728984460</td>\n",
       "      <td>4953893.08</td>\n",
       "      <td>4953893.08</td>\n",
       "      <td>C639921569</td>\n",
       "      <td>0.0</td>\n",
       "      <td>0.0</td>\n",
       "      <td>True</td>\n",
       "      <td>True</td>\n",
       "    </tr>\n",
       "    <tr>\n",
       "      <th>3247297</th>\n",
       "      <td>250</td>\n",
       "      <td>TRANSFER</td>\n",
       "      <td>1343002.08</td>\n",
       "      <td>C1100582606</td>\n",
       "      <td>1343002.08</td>\n",
       "      <td>1343002.08</td>\n",
       "      <td>C1147517658</td>\n",
       "      <td>0.0</td>\n",
       "      <td>0.0</td>\n",
       "      <td>True</td>\n",
       "      <td>True</td>\n",
       "    </tr>\n",
       "    <tr>\n",
       "      <th>3760288</th>\n",
       "      <td>279</td>\n",
       "      <td>TRANSFER</td>\n",
       "      <td>536624.41</td>\n",
       "      <td>C1035541766</td>\n",
       "      <td>536624.41</td>\n",
       "      <td>536624.41</td>\n",
       "      <td>C1100697970</td>\n",
       "      <td>0.0</td>\n",
       "      <td>0.0</td>\n",
       "      <td>True</td>\n",
       "      <td>True</td>\n",
       "    </tr>\n",
       "    <tr>\n",
       "      <th>5563713</th>\n",
       "      <td>387</td>\n",
       "      <td>TRANSFER</td>\n",
       "      <td>4892193.09</td>\n",
       "      <td>C908544136</td>\n",
       "      <td>4892193.09</td>\n",
       "      <td>4892193.09</td>\n",
       "      <td>C891140444</td>\n",
       "      <td>0.0</td>\n",
       "      <td>0.0</td>\n",
       "      <td>True</td>\n",
       "      <td>True</td>\n",
       "    </tr>\n",
       "    <tr>\n",
       "      <th>5996407</th>\n",
       "      <td>425</td>\n",
       "      <td>TRANSFER</td>\n",
       "      <td>10000000.00</td>\n",
       "      <td>C689608084</td>\n",
       "      <td>19585040.37</td>\n",
       "      <td>19585040.37</td>\n",
       "      <td>C1392803603</td>\n",
       "      <td>0.0</td>\n",
       "      <td>0.0</td>\n",
       "      <td>True</td>\n",
       "      <td>True</td>\n",
       "    </tr>\n",
       "    <tr>\n",
       "      <th>5996409</th>\n",
       "      <td>425</td>\n",
       "      <td>TRANSFER</td>\n",
       "      <td>9585040.37</td>\n",
       "      <td>C452586515</td>\n",
       "      <td>19585040.37</td>\n",
       "      <td>19585040.37</td>\n",
       "      <td>C1109166882</td>\n",
       "      <td>0.0</td>\n",
       "      <td>0.0</td>\n",
       "      <td>True</td>\n",
       "      <td>True</td>\n",
       "    </tr>\n",
       "    <tr>\n",
       "      <th>6168499</th>\n",
       "      <td>554</td>\n",
       "      <td>TRANSFER</td>\n",
       "      <td>3576297.10</td>\n",
       "      <td>C193696150</td>\n",
       "      <td>3576297.10</td>\n",
       "      <td>3576297.10</td>\n",
       "      <td>C484597480</td>\n",
       "      <td>0.0</td>\n",
       "      <td>0.0</td>\n",
       "      <td>True</td>\n",
       "      <td>True</td>\n",
       "    </tr>\n",
       "    <tr>\n",
       "      <th>6205439</th>\n",
       "      <td>586</td>\n",
       "      <td>TRANSFER</td>\n",
       "      <td>353874.22</td>\n",
       "      <td>C1684585475</td>\n",
       "      <td>353874.22</td>\n",
       "      <td>353874.22</td>\n",
       "      <td>C1770418982</td>\n",
       "      <td>0.0</td>\n",
       "      <td>0.0</td>\n",
       "      <td>True</td>\n",
       "      <td>True</td>\n",
       "    </tr>\n",
       "    <tr>\n",
       "      <th>6266413</th>\n",
       "      <td>617</td>\n",
       "      <td>TRANSFER</td>\n",
       "      <td>2542664.27</td>\n",
       "      <td>C786455622</td>\n",
       "      <td>2542664.27</td>\n",
       "      <td>2542664.27</td>\n",
       "      <td>C661958277</td>\n",
       "      <td>0.0</td>\n",
       "      <td>0.0</td>\n",
       "      <td>True</td>\n",
       "      <td>True</td>\n",
       "    </tr>\n",
       "    <tr>\n",
       "      <th>6281482</th>\n",
       "      <td>646</td>\n",
       "      <td>TRANSFER</td>\n",
       "      <td>10000000.00</td>\n",
       "      <td>C19004745</td>\n",
       "      <td>10399045.08</td>\n",
       "      <td>10399045.08</td>\n",
       "      <td>C1806199534</td>\n",
       "      <td>0.0</td>\n",
       "      <td>0.0</td>\n",
       "      <td>True</td>\n",
       "      <td>True</td>\n",
       "    </tr>\n",
       "    <tr>\n",
       "      <th>6281484</th>\n",
       "      <td>646</td>\n",
       "      <td>TRANSFER</td>\n",
       "      <td>399045.08</td>\n",
       "      <td>C724693370</td>\n",
       "      <td>10399045.08</td>\n",
       "      <td>10399045.08</td>\n",
       "      <td>C1909486199</td>\n",
       "      <td>0.0</td>\n",
       "      <td>0.0</td>\n",
       "      <td>True</td>\n",
       "      <td>True</td>\n",
       "    </tr>\n",
       "    <tr>\n",
       "      <th>6296014</th>\n",
       "      <td>671</td>\n",
       "      <td>TRANSFER</td>\n",
       "      <td>3441041.46</td>\n",
       "      <td>C917414431</td>\n",
       "      <td>3441041.46</td>\n",
       "      <td>3441041.46</td>\n",
       "      <td>C1082139865</td>\n",
       "      <td>0.0</td>\n",
       "      <td>0.0</td>\n",
       "      <td>True</td>\n",
       "      <td>True</td>\n",
       "    </tr>\n",
       "    <tr>\n",
       "      <th>6351225</th>\n",
       "      <td>702</td>\n",
       "      <td>TRANSFER</td>\n",
       "      <td>3171085.59</td>\n",
       "      <td>C1892216157</td>\n",
       "      <td>3171085.59</td>\n",
       "      <td>3171085.59</td>\n",
       "      <td>C1308068787</td>\n",
       "      <td>0.0</td>\n",
       "      <td>0.0</td>\n",
       "      <td>True</td>\n",
       "      <td>True</td>\n",
       "    </tr>\n",
       "    <tr>\n",
       "      <th>6362460</th>\n",
       "      <td>730</td>\n",
       "      <td>TRANSFER</td>\n",
       "      <td>10000000.00</td>\n",
       "      <td>C2140038573</td>\n",
       "      <td>17316255.05</td>\n",
       "      <td>17316255.05</td>\n",
       "      <td>C1395467927</td>\n",
       "      <td>0.0</td>\n",
       "      <td>0.0</td>\n",
       "      <td>True</td>\n",
       "      <td>True</td>\n",
       "    </tr>\n",
       "    <tr>\n",
       "      <th>6362462</th>\n",
       "      <td>730</td>\n",
       "      <td>TRANSFER</td>\n",
       "      <td>7316255.05</td>\n",
       "      <td>C1869569059</td>\n",
       "      <td>17316255.05</td>\n",
       "      <td>17316255.05</td>\n",
       "      <td>C1861208726</td>\n",
       "      <td>0.0</td>\n",
       "      <td>0.0</td>\n",
       "      <td>True</td>\n",
       "      <td>True</td>\n",
       "    </tr>\n",
       "    <tr>\n",
       "      <th>6362584</th>\n",
       "      <td>741</td>\n",
       "      <td>TRANSFER</td>\n",
       "      <td>5674547.89</td>\n",
       "      <td>C992223106</td>\n",
       "      <td>5674547.89</td>\n",
       "      <td>5674547.89</td>\n",
       "      <td>C1366804249</td>\n",
       "      <td>0.0</td>\n",
       "      <td>0.0</td>\n",
       "      <td>True</td>\n",
       "      <td>True</td>\n",
       "    </tr>\n",
       "  </tbody>\n",
       "</table>\n",
       "</div>"
      ],
      "text/plain": [
       "         Step TransactionType       Amount OriginAccount  OldBalanceOrigin  \\\n",
       "2736446   212        TRANSFER   4953893.08    C728984460        4953893.08   \n",
       "3247297   250        TRANSFER   1343002.08   C1100582606        1343002.08   \n",
       "3760288   279        TRANSFER    536624.41   C1035541766         536624.41   \n",
       "5563713   387        TRANSFER   4892193.09    C908544136        4892193.09   \n",
       "5996407   425        TRANSFER  10000000.00    C689608084       19585040.37   \n",
       "5996409   425        TRANSFER   9585040.37    C452586515       19585040.37   \n",
       "6168499   554        TRANSFER   3576297.10    C193696150        3576297.10   \n",
       "6205439   586        TRANSFER    353874.22   C1684585475         353874.22   \n",
       "6266413   617        TRANSFER   2542664.27    C786455622        2542664.27   \n",
       "6281482   646        TRANSFER  10000000.00     C19004745       10399045.08   \n",
       "6281484   646        TRANSFER    399045.08    C724693370       10399045.08   \n",
       "6296014   671        TRANSFER   3441041.46    C917414431        3441041.46   \n",
       "6351225   702        TRANSFER   3171085.59   C1892216157        3171085.59   \n",
       "6362460   730        TRANSFER  10000000.00   C2140038573       17316255.05   \n",
       "6362462   730        TRANSFER   7316255.05   C1869569059       17316255.05   \n",
       "6362584   741        TRANSFER   5674547.89    C992223106        5674547.89   \n",
       "\n",
       "         NewBalanceOrigin DestinationAccount  OldBalanceDestination  \\\n",
       "2736446        4953893.08         C639921569                    0.0   \n",
       "3247297        1343002.08        C1147517658                    0.0   \n",
       "3760288         536624.41        C1100697970                    0.0   \n",
       "5563713        4892193.09         C891140444                    0.0   \n",
       "5996407       19585040.37        C1392803603                    0.0   \n",
       "5996409       19585040.37        C1109166882                    0.0   \n",
       "6168499        3576297.10         C484597480                    0.0   \n",
       "6205439         353874.22        C1770418982                    0.0   \n",
       "6266413        2542664.27         C661958277                    0.0   \n",
       "6281482       10399045.08        C1806199534                    0.0   \n",
       "6281484       10399045.08        C1909486199                    0.0   \n",
       "6296014        3441041.46        C1082139865                    0.0   \n",
       "6351225        3171085.59        C1308068787                    0.0   \n",
       "6362460       17316255.05        C1395467927                    0.0   \n",
       "6362462       17316255.05        C1861208726                    0.0   \n",
       "6362584        5674547.89        C1366804249                    0.0   \n",
       "\n",
       "         NewBalanceDestination  isFraud  isFlaggedFraud  \n",
       "2736446                    0.0     True            True  \n",
       "3247297                    0.0     True            True  \n",
       "3760288                    0.0     True            True  \n",
       "5563713                    0.0     True            True  \n",
       "5996407                    0.0     True            True  \n",
       "5996409                    0.0     True            True  \n",
       "6168499                    0.0     True            True  \n",
       "6205439                    0.0     True            True  \n",
       "6266413                    0.0     True            True  \n",
       "6281482                    0.0     True            True  \n",
       "6281484                    0.0     True            True  \n",
       "6296014                    0.0     True            True  \n",
       "6351225                    0.0     True            True  \n",
       "6362460                    0.0     True            True  \n",
       "6362462                    0.0     True            True  \n",
       "6362584                    0.0     True            True  "
      ]
     },
     "execution_count": 12,
     "metadata": {},
     "output_type": "execute_result"
    }
   ],
   "source": [
    "print('\\n The number of transactions that have been set while occurring is {} which are printed out as follows:'.\\\n",
    "      format(df['isFlaggedFraud'].sum()) )\n",
    "\n",
    "df.loc[df['isFlaggedFraud'] == 1]"
   ]
  },
  {
   "cell_type": "code",
   "execution_count": 13,
   "metadata": {},
   "outputs": [
    {
     "data": {
      "text/plain": [
       "<AxesSubplot:xlabel='isFlaggedFraud', ylabel='Amount'>"
      ]
     },
     "execution_count": 13,
     "metadata": {},
     "output_type": "execute_result"
    },
    {
     "data": {
      "image/png": "[encoded data removed]",
      "text/plain": [
       "<Figure size 576x360 with 1 Axes>"
      ]
     },
     "metadata": {
      "needs_background": "light"
     },
     "output_type": "display_data"
    }
   ],
   "source": [
    "# To plot the transactions against the transacted amount, indicating the fraudulent ones.\n",
    "plt.figure(figsize=(8,5))\n",
    "sns.boxplot(x = 'isFlaggedFraud', y = 'Amount', hue= \"TransactionType\", data = df[df.Amount < 1e6], palette=\"Set3\")"
   ]
  },
  {
   "cell_type": "markdown",
   "metadata": {
    "_cell_guid": "ee5bc661-4f56-47f0-8771-9d033a17f347",
    "_uuid": "f1de48b059ede362e51020b263b01ed1f2dda83d"
   },
   "source": [
    "<a href='#top'>back to top</a>"
   ]
  },
  {
   "cell_type": "markdown",
   "metadata": {},
   "source": [
    "For answering the question: \n",
    "<a id='fraud-bigAmount'>1.2 Do mostly fraudulent transactions occur with big amounts of money?</a>\n",
    "\n",
    "From the next code, it can be observed that the fraudulent transactions mostly occurred as CASH_OUT or TRANSFER types, in asimilar number: 4097 for TRANSFERs and 4116 for CASH_OUTs."
   ]
  },
  {
   "cell_type": "code",
   "execution_count": 14,
   "metadata": {
    "_cell_guid": "a10a3577-4716-49dc-8dda-d567fb395a74",
    "_uuid": "abc0207b9075a0defd828fe8732d63cce8da33c6"
   },
   "outputs": [
    {
     "name": "stdout",
     "output_type": "stream",
     "text": [
      "\n",
      " The types of fraudulent transactions are ['TRANSFER', 'CASH_OUT']\n",
      "\n",
      " The number of fraudulent TRANSFERs = 4097\n",
      "\n",
      " The number of fraudulent CASH_OUTs = 4116\n"
     ]
    }
   ],
   "source": [
    "print('\\n The types of fraudulent transactions are {}'.format(\\\n",
    "list(df.loc[df.isFraud == 1].TransactionType.drop_duplicates().values))) # only 'CASH_OUT' \n",
    "                                                             # & 'TRANSFER'\n",
    "\n",
    "dfFrauTransfers = df.loc[(df.isFraud == 1) & (df.TransactionType == 'TRANSFER')]\n",
    "dfFrauCashOuts = df.loc[(df.isFraud == 1) & (df.TransactionType == 'CASH_OUT')]\n",
    "\n",
    "print ('\\n The number of fraudulent TRANSFERs = {}'.\\\n",
    "       format(len(dfFrauTransfers))) # 4097\n",
    "\n",
    "print ('\\n The number of fraudulent CASH_OUTs = {}'.\\\n",
    "       format(len(dfFrauCashOuts))) # 4116"
   ]
  },
  {
   "cell_type": "markdown",
   "metadata": {},
   "source": [
    "\n",
    "From the cell below, the averange transacted amount in TRANSFERs is 1480891.67, and the averange transacted amount in CASH_OUTs is 1455102.59.\n",
    "\n",
    "If we count the transfers less than the average, we got 3043 transactions and only 1054 greater than the everage. This means that mostly the fraud occurred in small transacted amounts; however if the number of transfers that are less than 400,000 we got 1954, which means that from the fraud transactions under the average transacted amount, the most of them occurred in very small amounts. Thus, it can be concluded that mostly the fraud transfers occurred in the extremes, either in big amounts or in small amounts.\n",
    "\n",
    "This similar reasoning can be figured it out for the transactions of the CASH_OUT type; the cashouts less than the average is 3058, and 1058 are greater than the average. The cashouts occurred in very small amounts are 1986.\n",
    "\n",
    "Thus, we can infered that either fraudulent transfers or cashouts, both present the same pattern; mostly occurred in very small amounts of money. This makes sense since fraudters will try to hide the money in short amount transactions, instead of operating with big amounts of money, which immediately will be detected by the financial institutions' systems."
   ]
  },
  {
   "cell_type": "code",
   "execution_count": 15,
   "metadata": {},
   "outputs": [
    {
     "name": "stdout",
     "output_type": "stream",
     "text": [
      "\n",
      "The average transacted amount of fraudulent TRANSFERs is 1480891.67, being the minimum as 63.8 and the maximum 10000000.0.\n",
      "4097\n",
      "\n",
      "The number of fraudulent TRANSFERs that are less than the average is 3043.\n",
      "\n",
      "The number of fraudulent TRANSFERs that are greater than the average is 1054.\n",
      "\n",
      "The number fraudulent TRANSFERs that are less than 400,000 is 1954, which is the 47.69% of the total fraudulent ones.\n"
     ]
    }
   ],
   "source": [
    "print('\\nThe average transacted amount of fraudulent TRANSFERs is {}, being the minimum as {} and the maximum {}.'.format(\\\n",
    "round(dfFrauTransfers['Amount'].mean(),2), round(dfFrauTransfers['Amount'].min(), 2), round(dfFrauTransfers['Amount'].max(),2)))\n",
    "\n",
    "less_avrg = dfFrauTransfers[dfFrauTransfers['Amount']<dfFrauTransfers['Amount'].mean()].Amount.count()\n",
    "greater_avrg = dfFrauTransfers[dfFrauTransfers['Amount']>=dfFrauTransfers['Amount'].mean()].Amount.count()\n",
    "\n",
    "\n",
    "print(dfFrauTransfers['Amount'].count())\n",
    "\n",
    "print('\\nThe number of fraudulent TRANSFERs that are less than the average is {}.'.format(less_avrg) )\n",
    "\n",
    "print('\\nThe number of fraudulent TRANSFERs that are greater than the average is {}.'.format(greater_avrg) )\n",
    "\n",
    "\n",
    "print('\\nThe number fraudulent TRANSFERs that are less than 400,000 is {}, which is the {}% of the total fraudulent ones.'.format(\\\n",
    "    dfFrauTransfers[dfFrauTransfers['Amount']<400000].Amount.count(), \\\n",
    "    round((dfFrauTransfers[dfFrauTransfers['Amount']<400000].Amount.count()/dfFrauTransfers['Amount'].count())*100, 2) ))"
   ]
  },
  {
   "cell_type": "code",
   "execution_count": 16,
   "metadata": {},
   "outputs": [
    {
     "name": "stdout",
     "output_type": "stream",
     "text": [
      "\n",
      "The average transacted amount of fraudulent CASH_OUTs is 1455102.59, being the minimun as 0.0 and the maximum 10000000.0.\n",
      "\n",
      "The number fraudulent CASH_OUTs that are less than the average is 3058.\n",
      "\n",
      "The number fraudulent CASH_OUTs that are greater than the average is 1058.\n",
      "\n",
      "The number fraudulent CASH_OUTs that are less than 400,000 is 1986.\n"
     ]
    }
   ],
   "source": [
    "print('\\nThe average transacted amount of fraudulent CASH_OUTs is {}, being the minimun as {} and the maximum {}.'.format(\\\n",
    "round(dfFrauCashOuts['Amount'].mean(),2), round(dfFrauCashOuts['Amount'].min(), 2), round(dfFrauCashOuts['Amount'].max(),2)))\n",
    "\n",
    "print('\\nThe number fraudulent CASH_OUTs that are less than the average is {}.'.format(\\\n",
    "    dfFrauCashOuts[dfFrauCashOuts['Amount']<dfFrauCashOuts['Amount'].mean()].Amount.count()) )\n",
    "\n",
    "print('\\nThe number fraudulent CASH_OUTs that are greater than the average is {}.'.format(\\\n",
    "    dfFrauCashOuts[dfFrauCashOuts['Amount']>=dfFrauCashOuts['Amount'].mean()].Amount.count()) )\n",
    "\n",
    "print('\\nThe number fraudulent CASH_OUTs that are less than 400,000 is {}.'.format(\\\n",
    "    dfFrauCashOuts[dfFrauCashOuts['Amount']<400000].Amount.count()) )"
   ]
  },
  {
   "cell_type": "markdown",
   "metadata": {},
   "source": [
    "For answering the question: <a id='fraud-CashOut'>1.3 Do mostly common fraudulent transactions occur in cash out?</a>\n",
    "\n",
    "The next code analyzes the transactions that are set as fraud, by using the column isFraud, even the column isFlaggedFraud has been set to false (which might be happening becaused the transactions was not set as fraud during the occurrence, but later on). \n",
    "\n",
    "It can be observed that only the transactions: CASH_OUT and TRANSFER have frudulent transactions, and both in almost equal number: 4116 and 4097 respectively. \n",
    "\n",
    "Thus, it can be concluded that fraudulent transactions can occurred in either types, cash out or transfer, which means that fruadters are using not only payment methods, but also transactions through financial institutions (and from the previous business question: <a id='fraud-bigAmount'>1.2</a>, in small amounts of money)."
   ]
  },
  {
   "cell_type": "code",
   "execution_count": 17,
   "metadata": {},
   "outputs": [
    {
     "data": {
      "text/html": [
       "<div>\n",
       "<style scoped>\n",
       "    .dataframe tbody tr th:only-of-type {\n",
       "        vertical-align: middle;\n",
       "    }\n",
       "\n",
       "    .dataframe tbody tr th {\n",
       "        vertical-align: top;\n",
       "    }\n",
       "\n",
       "    .dataframe thead th {\n",
       "        text-align: right;\n",
       "    }\n",
       "</style>\n",
       "<table border=\"1\" class=\"dataframe\">\n",
       "  <thead>\n",
       "    <tr style=\"text-align: right;\">\n",
       "      <th></th>\n",
       "      <th></th>\n",
       "      <th>Step</th>\n",
       "      <th>Amount</th>\n",
       "      <th>OriginAccount</th>\n",
       "      <th>OldBalanceOrigin</th>\n",
       "      <th>NewBalanceOrigin</th>\n",
       "      <th>DestinationAccount</th>\n",
       "      <th>OldBalanceDestination</th>\n",
       "      <th>NewBalanceDestination</th>\n",
       "      <th>isFlaggedFraud</th>\n",
       "    </tr>\n",
       "    <tr>\n",
       "      <th>TransactionType</th>\n",
       "      <th>isFraud</th>\n",
       "      <th></th>\n",
       "      <th></th>\n",
       "      <th></th>\n",
       "      <th></th>\n",
       "      <th></th>\n",
       "      <th></th>\n",
       "      <th></th>\n",
       "      <th></th>\n",
       "      <th></th>\n",
       "    </tr>\n",
       "  </thead>\n",
       "  <tbody>\n",
       "    <tr>\n",
       "      <th>CASH_IN</th>\n",
       "      <th>False</th>\n",
       "      <td>1399284</td>\n",
       "      <td>1399284</td>\n",
       "      <td>1399284</td>\n",
       "      <td>1399284</td>\n",
       "      <td>1399284</td>\n",
       "      <td>1399284</td>\n",
       "      <td>1399284</td>\n",
       "      <td>1399284</td>\n",
       "      <td>1399284</td>\n",
       "    </tr>\n",
       "    <tr>\n",
       "      <th rowspan=\"2\" valign=\"top\">CASH_OUT</th>\n",
       "      <th>False</th>\n",
       "      <td>2233384</td>\n",
       "      <td>2233384</td>\n",
       "      <td>2233384</td>\n",
       "      <td>2233384</td>\n",
       "      <td>2233384</td>\n",
       "      <td>2233384</td>\n",
       "      <td>2233384</td>\n",
       "      <td>2233384</td>\n",
       "      <td>2233384</td>\n",
       "    </tr>\n",
       "    <tr>\n",
       "      <th>True</th>\n",
       "      <td>4116</td>\n",
       "      <td>4116</td>\n",
       "      <td>4116</td>\n",
       "      <td>4116</td>\n",
       "      <td>4116</td>\n",
       "      <td>4116</td>\n",
       "      <td>4116</td>\n",
       "      <td>4116</td>\n",
       "      <td>4116</td>\n",
       "    </tr>\n",
       "    <tr>\n",
       "      <th>DEBIT</th>\n",
       "      <th>False</th>\n",
       "      <td>41432</td>\n",
       "      <td>41432</td>\n",
       "      <td>41432</td>\n",
       "      <td>41432</td>\n",
       "      <td>41432</td>\n",
       "      <td>41432</td>\n",
       "      <td>41432</td>\n",
       "      <td>41432</td>\n",
       "      <td>41432</td>\n",
       "    </tr>\n",
       "    <tr>\n",
       "      <th>PAYMENT</th>\n",
       "      <th>False</th>\n",
       "      <td>2151495</td>\n",
       "      <td>2151495</td>\n",
       "      <td>2151495</td>\n",
       "      <td>2151495</td>\n",
       "      <td>2151495</td>\n",
       "      <td>2151495</td>\n",
       "      <td>2151495</td>\n",
       "      <td>2151495</td>\n",
       "      <td>2151495</td>\n",
       "    </tr>\n",
       "    <tr>\n",
       "      <th rowspan=\"2\" valign=\"top\">TRANSFER</th>\n",
       "      <th>False</th>\n",
       "      <td>528812</td>\n",
       "      <td>528812</td>\n",
       "      <td>528812</td>\n",
       "      <td>528812</td>\n",
       "      <td>528812</td>\n",
       "      <td>528812</td>\n",
       "      <td>528812</td>\n",
       "      <td>528812</td>\n",
       "      <td>528812</td>\n",
       "    </tr>\n",
       "    <tr>\n",
       "      <th>True</th>\n",
       "      <td>4097</td>\n",
       "      <td>4097</td>\n",
       "      <td>4097</td>\n",
       "      <td>4097</td>\n",
       "      <td>4097</td>\n",
       "      <td>4097</td>\n",
       "      <td>4097</td>\n",
       "      <td>4097</td>\n",
       "      <td>4097</td>\n",
       "    </tr>\n",
       "  </tbody>\n",
       "</table>\n",
       "</div>"
      ],
      "text/plain": [
       "                            Step   Amount  OriginAccount  OldBalanceOrigin  \\\n",
       "TransactionType isFraud                                                      \n",
       "CASH_IN         False    1399284  1399284        1399284           1399284   \n",
       "CASH_OUT        False    2233384  2233384        2233384           2233384   \n",
       "                True        4116     4116           4116              4116   \n",
       "DEBIT           False      41432    41432          41432             41432   \n",
       "PAYMENT         False    2151495  2151495        2151495           2151495   \n",
       "TRANSFER        False     528812   528812         528812            528812   \n",
       "                True        4097     4097           4097              4097   \n",
       "\n",
       "                         NewBalanceOrigin  DestinationAccount  \\\n",
       "TransactionType isFraud                                         \n",
       "CASH_IN         False             1399284             1399284   \n",
       "CASH_OUT        False             2233384             2233384   \n",
       "                True                 4116                4116   \n",
       "DEBIT           False               41432               41432   \n",
       "PAYMENT         False             2151495             2151495   \n",
       "TRANSFER        False              528812              528812   \n",
       "                True                 4097                4097   \n",
       "\n",
       "                         OldBalanceDestination  NewBalanceDestination  \\\n",
       "TransactionType isFraud                                                 \n",
       "CASH_IN         False                  1399284                1399284   \n",
       "CASH_OUT        False                  2233384                2233384   \n",
       "                True                      4116                   4116   \n",
       "DEBIT           False                    41432                  41432   \n",
       "PAYMENT         False                  2151495                2151495   \n",
       "TRANSFER        False                   528812                 528812   \n",
       "                True                      4097                   4097   \n",
       "\n",
       "                         isFlaggedFraud  \n",
       "TransactionType isFraud                  \n",
       "CASH_IN         False           1399284  \n",
       "CASH_OUT        False           2233384  \n",
       "                True               4116  \n",
       "DEBIT           False             41432  \n",
       "PAYMENT         False           2151495  \n",
       "TRANSFER        False            528812  \n",
       "                True               4097  "
      ]
     },
     "execution_count": 17,
     "metadata": {},
     "output_type": "execute_result"
    }
   ],
   "source": [
    "# Get the records with isFraud set as 1, group by the transaction type\n",
    "\n",
    "df.groupby(['TransactionType', 'isFraud']).count()"
   ]
  },
  {
   "cell_type": "markdown",
   "metadata": {
    "_cell_guid": "dfae99f3-ed49-47e3-8036-afafda366f0b",
    "_uuid": "744f972b4966ebf9f207382f1e3bb900c370f0d6"
   },
   "source": [
    "<a href='#top'>back to top</a>"
   ]
  },
  {
   "cell_type": "markdown",
   "metadata": {
    "_cell_guid": "cb401745-33d3-42df-a226-12a84fb04bd9",
    "_uuid": "86a79448bf138b3b4c249c5be4b812dbce492e9a"
   },
   "source": [
    "<a id='datapreparation'></a>\n",
    "#### 3. Data Preparation\n",
    "In this section, it will be wrangled the data to prepare it for analysing whether more suitable inferences can be made for answering the business questions: 1.4 and 1.5, and for modelling an ML algorithm for predicting if a transaction is fraudulent. "
   ]
  },
  {
   "cell_type": "markdown",
   "metadata": {
    "_cell_guid": "cdd94133-5730-4f31-9a7e-c23c1322edb2",
    "_uuid": "a5b91ecc33d7f51bec7e5e357edef789e2459d12"
   },
   "source": [
    "<a id='dataremoval'></a>\n",
    "#### 3. 1 Data Removal\n",
    "As it was observed from the <a id='analysingdata'>2.4 Analysing the Data</a> section, the data register fraud transactions only in the TRANSFERs and CASH_OUTs types ones, according to the previous anaylisis for the isFraud column. So, we can freely discard the other transactions types since they are not contribuiting to figure out a fraud pattern, and avoiding carrying a bias due to the no-fraudulent transactions would be more than 99% of the records (see <a id='analysingdata'>2.4</a>). The drop of these features will also contribute to reduce variance, by avoiding the ML algorithm (e.g. a classifier) to memorize the data and prevent overfitting. \n",
    "\n",
    "Thus, the X dataframe is created containing only these transactions types, in order to prepare the data for a suitable prediction algorithm. "
   ]
  },
  {
   "cell_type": "code",
   "execution_count": 18,
   "metadata": {
    "_cell_guid": "bc50e596-b0f3-4e63-877d-d506e2528cd1",
    "_uuid": "42807f63bb86782daedce8dfa7ba1385458c84c9"
   },
   "outputs": [],
   "source": [
    "\n",
    "# Create a dataframe with only the TRANSFER and CASH_OUT transaction types\n",
    "X = df.loc[(df.TransactionType == 'TRANSFER') | (df.TransactionType == 'CASH_OUT')]\n",
    "\n",
    "# To create and index for the dataframe\n",
    "#randomState = 5\n",
    "#np.random.seed(randomState)\n",
    "\n",
    "#X = X.loc[np.random.choice(X.index, 100000, replace = False)]\n",
    "\n",
    "Y = X['isFraud']  # Create the labels for the dataframe, by assigning the isFraud column to the Y\n",
    "del X['isFraud']  # Delete the isFraud column from X\n",
    "\n",
    "# It will be eliminated the OriginAccount and DestinationAccount since they are the account numbers\n",
    "X = X.drop(['OriginAccount', 'DestinationAccount'], axis = 1)\n",
    "\n",
    "# The isFlaggedFraud is also dropped since only 16 transactions were set as fraudulent while occurring, \n",
    "# so it is a very small sample to get information from it\n",
    "\n",
    "X = X.drop(['isFlaggedFraud'], axis = 1)\n",
    "\n",
    "# Binary-encoding of labelled data in 'type'\n",
    "X.loc[X.TransactionType == 'TRANSFER', 'TransactionType'] = str(0)\n",
    "X.loc[X.TransactionType == 'CASH_OUT', 'TransactionType'] = str(1)\n",
    "X.TransactionType = X.TransactionType.astype(int) # convert dtype(string) to to dtype(int)\n",
    "\n"
   ]
  },
  {
   "cell_type": "markdown",
   "metadata": {
    "_cell_guid": "9e10d9ff-0cc1-4c4b-9dd2-6772b6ffbc12",
    "_uuid": "51ae3efbe461831c91c595096021a362928312fe"
   },
   "source": [
    "<a href='#top'>back to top</a>"
   ]
  },
  {
   "cell_type": "markdown",
   "metadata": {
    "_cell_guid": "8068fa22-b0d9-46b7-86ff-21ca4dd212f5",
    "_uuid": "520ca37c8d0db0422edf31ecbac74667276494ab"
   },
   "source": [
    "<a id='dataimputation'></a>\n",
    "##### 3.2 Data Imputation"
   ]
  },
  {
   "cell_type": "markdown",
   "metadata": {
    "_cell_guid": "080ba9dc-2879-4e44-8cb8-a73b7d87cd04",
    "_uuid": "9953274969e078811390f2bd275b41e5219e87fb"
   },
   "source": [
    "There is an interesting observation in the data, it turns out that there are several transactions with zero in the destination account balance, both before and after the intended transacted amount, which is non-zero. The percentage of these transactions in fraudulent ones is 49.56%, while in the valid transactions is 0.06% (see the code below). \n",
    "\n",
    "The no-changed balance and non-zero transacted amount can be a strong indicator of fraud, since the financial institutions systems stop the transactions that are suspicious of fraud, and then they are not completed, leading to keep the destination account balances with no change."
   ]
  },
  {
   "cell_type": "code",
   "execution_count": 19,
   "metadata": {
    "_cell_guid": "ebff49a7-a155-4fcf-b6a1-69fedffed60b",
    "_uuid": "add520480eb9c8c0249aebaede714f1afae0f274"
   },
   "outputs": [
    {
     "name": "stdout",
     "output_type": "stream",
     "text": [
      "\n",
      "The fraudulent transactions percentage with Old Balance and New Balance in the Destination Account equals to Zero even the transacted amount is non-zero is: 49.56%\n",
      "\n",
      "The non-fraudulent transactions percentage with Old Balance and New Balance in the Destination Account equals to Zero even the transacted amount is non-zero is: 0.06%\n"
     ]
    }
   ],
   "source": [
    "\n",
    "XFrauds = X.loc[Y == 1]             # Get the fraud transactions\n",
    "XNoFrauds = X.loc[Y == 0]           # Get the no-fraud transactions\n",
    "\n",
    "print('\\nThe fraudulent transactions percentage with Old Balance and New Balance in the Destination Account equals to Zero \\\n",
    "even the transacted amount is non-zero is: {}%'.\\\n",
    "format(round((len(XFrauds.loc[(XFrauds.OldBalanceDestination == 0) & \\\n",
    "(XFrauds.NewBalanceDestination == 0) & (XFrauds.Amount)]) / (1.0 * len(XFrauds)))*100,2)))\n",
    "\n",
    "print('\\nThe non-fraudulent transactions percentage with Old Balance and New Balance in the Destination Account equals to Zero \\\n",
    "even the transacted amount is non-zero is: {}%'.\\\n",
    "format(round((len(XNoFrauds.loc[(XNoFrauds.OldBalanceDestination == 0) & \\\n",
    "(XNoFrauds.NewBalanceDestination == 0) & (XNoFrauds.Amount)]) / (1.0 * len(XNoFrauds)))*100,2)))"
   ]
  },
  {
   "cell_type": "code",
   "execution_count": 20,
   "metadata": {},
   "outputs": [
    {
     "data": {
      "text/html": [
       "<div>\n",
       "<style scoped>\n",
       "    .dataframe tbody tr th:only-of-type {\n",
       "        vertical-align: middle;\n",
       "    }\n",
       "\n",
       "    .dataframe tbody tr th {\n",
       "        vertical-align: top;\n",
       "    }\n",
       "\n",
       "    .dataframe thead th {\n",
       "        text-align: right;\n",
       "    }\n",
       "</style>\n",
       "<table border=\"1\" class=\"dataframe\">\n",
       "  <thead>\n",
       "    <tr style=\"text-align: right;\">\n",
       "      <th></th>\n",
       "      <th>Step</th>\n",
       "      <th>TransactionType</th>\n",
       "      <th>Amount</th>\n",
       "      <th>OldBalanceOrigin</th>\n",
       "      <th>NewBalanceOrigin</th>\n",
       "      <th>OldBalanceDestination</th>\n",
       "      <th>NewBalanceDestination</th>\n",
       "    </tr>\n",
       "  </thead>\n",
       "  <tbody>\n",
       "    <tr>\n",
       "      <th>2</th>\n",
       "      <td>1</td>\n",
       "      <td>0</td>\n",
       "      <td>181.0</td>\n",
       "      <td>181.0</td>\n",
       "      <td>0.0</td>\n",
       "      <td>0.0</td>\n",
       "      <td>0.0</td>\n",
       "    </tr>\n",
       "    <tr>\n",
       "      <th>3</th>\n",
       "      <td>1</td>\n",
       "      <td>1</td>\n",
       "      <td>181.0</td>\n",
       "      <td>181.0</td>\n",
       "      <td>0.0</td>\n",
       "      <td>21182.0</td>\n",
       "      <td>0.0</td>\n",
       "    </tr>\n",
       "    <tr>\n",
       "      <th>251</th>\n",
       "      <td>1</td>\n",
       "      <td>0</td>\n",
       "      <td>2806.0</td>\n",
       "      <td>2806.0</td>\n",
       "      <td>0.0</td>\n",
       "      <td>0.0</td>\n",
       "      <td>0.0</td>\n",
       "    </tr>\n",
       "    <tr>\n",
       "      <th>252</th>\n",
       "      <td>1</td>\n",
       "      <td>1</td>\n",
       "      <td>2806.0</td>\n",
       "      <td>2806.0</td>\n",
       "      <td>0.0</td>\n",
       "      <td>26202.0</td>\n",
       "      <td>0.0</td>\n",
       "    </tr>\n",
       "    <tr>\n",
       "      <th>680</th>\n",
       "      <td>1</td>\n",
       "      <td>0</td>\n",
       "      <td>20128.0</td>\n",
       "      <td>20128.0</td>\n",
       "      <td>0.0</td>\n",
       "      <td>0.0</td>\n",
       "      <td>0.0</td>\n",
       "    </tr>\n",
       "  </tbody>\n",
       "</table>\n",
       "</div>"
      ],
      "text/plain": [
       "     Step  TransactionType   Amount  OldBalanceOrigin  NewBalanceOrigin  \\\n",
       "2       1                0    181.0             181.0               0.0   \n",
       "3       1                1    181.0             181.0               0.0   \n",
       "251     1                0   2806.0            2806.0               0.0   \n",
       "252     1                1   2806.0            2806.0               0.0   \n",
       "680     1                0  20128.0           20128.0               0.0   \n",
       "\n",
       "     OldBalanceDestination  NewBalanceDestination  \n",
       "2                      0.0                    0.0  \n",
       "3                  21182.0                    0.0  \n",
       "251                    0.0                    0.0  \n",
       "252                26202.0                    0.0  \n",
       "680                    0.0                    0.0  "
      ]
     },
     "execution_count": 20,
     "metadata": {},
     "output_type": "execute_result"
    }
   ],
   "source": [
    "XFrauds.head()"
   ]
  },
  {
   "cell_type": "code",
   "execution_count": 21,
   "metadata": {},
   "outputs": [
    {
     "name": "stdout",
     "output_type": "stream",
     "text": [
      "                  Frauds  NonFrauds\n",
      "UnchangedBalance   49.56       0.06\n",
      "ChangedBalance     50.44      99.94\n",
      "                      Frauds  NonFrauds\n",
      "UnchangedDestination     0.3      47.37\n",
      "ChangedDestination      99.7      52.63\n"
     ]
    }
   ],
   "source": [
    "# This code block is for identifying the behaviour in the transactions, to show that the old and new balances in the \n",
    "# destination (and origin) accounts, even the transacted amount is non-zero\n",
    "\n",
    "# Get the fraudulent transactions that have zero balance in the destination accounts\n",
    "\n",
    "x1 = round(len(XFrauds.loc[(XFrauds.OldBalanceDestination == 0) & \n",
    "(XFrauds.NewBalanceDestination == 0) & (XFrauds.Amount)]) / (1.0 * len(XFrauds))*100,2)\n",
    "\n",
    "# Get the fraudulent transactions that have zero balance in the destination accounts\n",
    "\n",
    "x2 = round(len(XNoFrauds.loc[(XNoFrauds.OldBalanceDestination == 0) & \\\n",
    "(XNoFrauds.NewBalanceDestination == 0) & (XNoFrauds.Amount)]) / (1.0 * len(XNoFrauds))*100, 2)\n",
    "\n",
    "index=['UnchangedBalance', 'ChangedBalance']\n",
    "data = {'Frauds': [x1, 100-x1],\n",
    "        'NonFrauds': [x2, 100-x2]\n",
    "        }\n",
    "\n",
    "dfZero = pd.DataFrame(data, index=index)\n",
    "print(dfZero.head())\n",
    "\n",
    "# Get the fraudulent transactions that have zero balance in the origin accounts\n",
    "\n",
    "x3 = round(len(XFrauds.loc[(XFrauds.OldBalanceOrigin == 0) & \n",
    "(XFrauds.NewBalanceOrigin == 0) & (XFrauds.Amount)]) / (1.0 * len(XFrauds))*100,2)\n",
    "\n",
    "# Get the fraudulent transactions that have zero balance in the origin accounts\n",
    "\n",
    "x4 = round(len(XNoFrauds.loc[(XNoFrauds.OldBalanceOrigin == 0) & \\\n",
    "(XNoFrauds.NewBalanceOrigin == 0) & (XNoFrauds.Amount)]) / (1.0 * len(XNoFrauds))*100, 2)\n",
    "\n",
    "index=['UnchangedDestination', 'ChangedDestination']\n",
    "data2 = {'Frauds': [x3, 100-x3],\n",
    "        'NonFrauds': [x4, 100-x4]\n",
    "        }\n",
    "\n",
    "dfUnchanged = pd.DataFrame(data2, index=index)\n",
    "print(dfUnchanged.head())\n"
   ]
  },
  {
   "cell_type": "code",
   "execution_count": 22,
   "metadata": {},
   "outputs": [
    {
     "data": {
      "text/plain": [
       "Text(0, 0.5, 'Percentages')"
      ]
     },
     "execution_count": 22,
     "metadata": {},
     "output_type": "execute_result"
    },
    {
     "data": {
      "image/png": "[encoded data removed]",
      "text/plain": [
       "<Figure size 1008x288 with 2 Axes>"
      ]
     },
     "metadata": {
      "needs_background": "light"
     },
     "output_type": "display_data"
    }
   ],
   "source": [
    "# To plot the unchanged balances for origin and destination accounts\n",
    "\n",
    "fig = plt.figure(figsize=(20,8))\n",
    "ax1 = fig.add_subplot(1, 2, 1)\n",
    "ax2 = fig.add_subplot(1, 2, 2)\n",
    "\n",
    "ax1 = dfZero.T.plot.bar(ax=ax1, rot=0, stacked=True, figsize=(14,4), color=['grey', 'purple'])\n",
    "ax1.set_title('Balances Status in Destination Accounts')\n",
    "ax1.set_ylabel('Percentages')\n",
    "\n",
    "ax2 = dfUnchanged.T.plot.bar(ax=ax2, rot=0, stacked=True, figsize=(14,4), color=['grey', 'purple'])\n",
    "ax2.set_title('Balances Status in Origin Accounts')\n",
    "ax2.set_ylabel('Percentages')\n"
   ]
  },
  {
   "cell_type": "markdown",
   "metadata": {
    "_cell_guid": "ac9c5868-7817-4c03-a898-9da026776ca7",
    "_uuid": "0d575a669ee174dc04e34dcd40b6989c1b536f27"
   },
   "source": [
    "Thereafter, it will not imputed the destination account with the mean or median, since the zero balance is a strong indicator of fraud, when the transacted amount is non-zero. Otherwise, it would mask this fraud indicator behaviour and to make the fraudulent transactions to appear no-fraudulent. Thus, another value is used to impute this columns, which is to mark these transactions by replacing the 0 with the -1, in order to indicate a particular behavior for a ML algorithm."
   ]
  },
  {
   "cell_type": "code",
   "execution_count": 23,
   "metadata": {
    "_cell_guid": "41351678-070d-4ed8-8386-760baeafc5bf",
    "_uuid": "b277e238d9470a7c1231ac2e59f9d0a0a25089ff"
   },
   "outputs": [
    {
     "data": {
      "text/html": [
       "<div>\n",
       "<style scoped>\n",
       "    .dataframe tbody tr th:only-of-type {\n",
       "        vertical-align: middle;\n",
       "    }\n",
       "\n",
       "    .dataframe tbody tr th {\n",
       "        vertical-align: top;\n",
       "    }\n",
       "\n",
       "    .dataframe thead th {\n",
       "        text-align: right;\n",
       "    }\n",
       "</style>\n",
       "<table border=\"1\" class=\"dataframe\">\n",
       "  <thead>\n",
       "    <tr style=\"text-align: right;\">\n",
       "      <th></th>\n",
       "      <th>Step</th>\n",
       "      <th>TransactionType</th>\n",
       "      <th>Amount</th>\n",
       "      <th>OldBalanceOrigin</th>\n",
       "      <th>NewBalanceOrigin</th>\n",
       "      <th>OldBalanceDestination</th>\n",
       "      <th>NewBalanceDestination</th>\n",
       "    </tr>\n",
       "  </thead>\n",
       "  <tbody>\n",
       "    <tr>\n",
       "      <th>2</th>\n",
       "      <td>1</td>\n",
       "      <td>0</td>\n",
       "      <td>181.00</td>\n",
       "      <td>181.0</td>\n",
       "      <td>0.0</td>\n",
       "      <td>-1.0</td>\n",
       "      <td>-1.00</td>\n",
       "    </tr>\n",
       "    <tr>\n",
       "      <th>3</th>\n",
       "      <td>1</td>\n",
       "      <td>1</td>\n",
       "      <td>181.00</td>\n",
       "      <td>181.0</td>\n",
       "      <td>0.0</td>\n",
       "      <td>21182.0</td>\n",
       "      <td>0.00</td>\n",
       "    </tr>\n",
       "    <tr>\n",
       "      <th>15</th>\n",
       "      <td>1</td>\n",
       "      <td>1</td>\n",
       "      <td>229133.94</td>\n",
       "      <td>15325.0</td>\n",
       "      <td>0.0</td>\n",
       "      <td>5083.0</td>\n",
       "      <td>51513.44</td>\n",
       "    </tr>\n",
       "    <tr>\n",
       "      <th>19</th>\n",
       "      <td>1</td>\n",
       "      <td>0</td>\n",
       "      <td>215310.30</td>\n",
       "      <td>705.0</td>\n",
       "      <td>0.0</td>\n",
       "      <td>22425.0</td>\n",
       "      <td>0.00</td>\n",
       "    </tr>\n",
       "    <tr>\n",
       "      <th>24</th>\n",
       "      <td>1</td>\n",
       "      <td>0</td>\n",
       "      <td>311685.89</td>\n",
       "      <td>10835.0</td>\n",
       "      <td>0.0</td>\n",
       "      <td>6267.0</td>\n",
       "      <td>2719172.89</td>\n",
       "    </tr>\n",
       "  </tbody>\n",
       "</table>\n",
       "</div>"
      ],
      "text/plain": [
       "    Step  TransactionType     Amount  OldBalanceOrigin  NewBalanceOrigin  \\\n",
       "2      1                0     181.00             181.0               0.0   \n",
       "3      1                1     181.00             181.0               0.0   \n",
       "15     1                1  229133.94           15325.0               0.0   \n",
       "19     1                0  215310.30             705.0               0.0   \n",
       "24     1                0  311685.89           10835.0               0.0   \n",
       "\n",
       "    OldBalanceDestination  NewBalanceDestination  \n",
       "2                    -1.0                  -1.00  \n",
       "3                 21182.0                   0.00  \n",
       "15                 5083.0               51513.44  \n",
       "19                22425.0                   0.00  \n",
       "24                 6267.0             2719172.89  "
      ]
     },
     "execution_count": 23,
     "metadata": {},
     "output_type": "execute_result"
    }
   ],
   "source": [
    "# Replace the zero balance with -1\n",
    "X.head()\n",
    "X.loc[(X.OldBalanceDestination == 0) & (X.NewBalanceDestination == 0) & (X.Amount != 0), \\\n",
    "      ['OldBalanceDestination', 'NewBalanceDestination']] = - 1\n",
    "X.head()"
   ]
  },
  {
   "cell_type": "markdown",
   "metadata": {
    "_cell_guid": "e40457d1-cf12-480b-99c4-316f470a2205",
    "_uuid": "c63f1339566c32356fb65ec9f2ac1abbd87f4d11"
   },
   "source": [
    "There are also several transactions with zero in the origin account balance, both before or after the transaction with a non-zero amount. However, the percentage here in fraudulent transactions is small, 0.3%; and 47% in non-fraudulent ones. Thus, we proceed as previously, and not to impute a mean or median, instead it will be replace the 0 with a null."
   ]
  },
  {
   "cell_type": "code",
   "execution_count": 24,
   "metadata": {
    "_cell_guid": "a950ca90-ce03-4973-811c-96b714e09335",
    "_uuid": "57ee6691c420dc2f5261f99d8b02f2c17ea947f1"
   },
   "outputs": [],
   "source": [
    "X.loc[(X.OldBalanceOrigin == 0) & (X.NewBalanceOrigin == 0) & (X.Amount != 0), \\\n",
    "      ['OldBalanceOrigin', 'NewBalanceOrigin']] = np.nan"
   ]
  },
  {
   "cell_type": "markdown",
   "metadata": {},
   "source": [
    "For answering the question: <a id='fraud-indicator'>1.4 What could be a fraud indicator?</a>\n",
    "\n",
    "From the previous code, we can conclude that a strong indicator for fraud is the destination account balance as zero, both before and after a non-zero amount is transacted. As commented, this happens when the financial institutions blocks a suspicious transactions as fraud, and then the account balances remain unchanged. All the dataset records have this same behaviour pattern.\n"
   ]
  },
  {
   "cell_type": "markdown",
   "metadata": {
    "_cell_guid": "8a5432e2-f4f2-4e4f-8ad4-c3533c32ef7d",
    "_uuid": "f3619f3f8200f0ba02cab0ef2241faabbaa08d02"
   },
   "source": [
    "<a href='#top'>back to top</a>"
   ]
  },
  {
   "cell_type": "markdown",
   "metadata": {
    "_cell_guid": "6f02a6bb-08db-41b6-b0d1-2076e49a47e8",
    "_uuid": "b8e9aab218faffb19fa309eb3ef754d2cc58c4a4"
   },
   "source": [
    "<a id='featureEng'></a>\n",
    "#### 3.3 Feature-engineering"
   ]
  },
  {
   "cell_type": "markdown",
   "metadata": {
    "_cell_guid": "ee52641e-2440-4a48-b312-77369d9f2841",
    "_uuid": "f31f4503e62234aedc3782a64374207a1a6366a7"
   },
   "source": [
    "From the previous section <a href='#imputing'>3.2</a>, it seems that the transacted amount is related to the fraud comission, but at this step a further analysis would be suitable in order to find out more information about this correlation. For this purpose, several graphics and the correlation matrix will be analysed. \n",
    "\n",
    "Firstly, it will be created two columns: errorBalanceOrigin and errorBalanceDestination, which records the difference between the old and new account balances against the transacted amount; this is done for the origin and destination accounts, respectively."
   ]
  },
  {
   "cell_type": "code",
   "execution_count": 25,
   "metadata": {},
   "outputs": [],
   "source": [
    "# To create two columns: errorBalanceOrigin and errorBalanceDestination to record the difference between the old \n",
    "# and new account balances agains the transacted amount.\n",
    "\n",
    "X['errorBalanceOrigin'] = X.NewBalanceOrigin - X.OldBalanceOrigin + X.Amount\n",
    "X['errorBalanceDestination'] = X.OldBalanceDestination - X.NewBalanceDestination + X.Amount"
   ]
  },
  {
   "cell_type": "code",
   "execution_count": 26,
   "metadata": {},
   "outputs": [],
   "source": [
    "# Function to plot the two errors columns just created: errorBalanceOrigin and errorBalanceDestination, plotting the \n",
    "# Amount vs. Error, for both the no-fraudulent and fraudulent transactions\n",
    "\n",
    "def plotErrorsVsAmount(X, Y, errorOrigin=True, figsize = (14, 4)):\n",
    "    \n",
    "    fig = plt.figure(figsize = figsize) \n",
    "    \n",
    "    ax1 = fig.add_subplot(1, 2, 1) # Create two plots\n",
    "    ax2 = fig.add_subplot(1, 2, 2)\n",
    "\n",
    "    if errorOrigin == True: # Plot transactions for the origin account error vs amount\n",
    "        # Plot the non-fraudulent transactions, separating those less than cero, from the greater ones.\n",
    "        ax1.plot(X.loc[(Y == 0)&(X.errorBalanceOrigin <=0)].Amount, X.loc[(Y == 0)&(X.errorBalanceOrigin <=0)].errorBalanceOrigin,label='Negative errorBalanceOrigin')\n",
    "        ax1.plot(X.loc[(Y == 0)&(X.errorBalanceOrigin >0)].Amount, X.loc[(Y == 0)&(X.errorBalanceOrigin >0)].errorBalanceOrigin,label='Positive errorBalanceOrigin')\n",
    "    \n",
    "        # Plot the fraudulent transactions, separating those less than cero, from the greater ones.\n",
    "        ax2.plot(X.loc[(Y == 1)&(X.errorBalanceOrigin <=0)].Amount, X.loc[(Y == 1)&(X.errorBalanceOrigin <=0)].errorBalanceOrigin, label='Negative errorBalanceOrigin')\n",
    "        ax2.plot(X.loc[(Y == 1)&(X.errorBalanceOrigin >0)].Amount, X.loc[(Y == 1)&(X.errorBalanceOrigin >0)].errorBalanceOrigin, label='Positive errorBalanceOrigin')\n",
    "        ax1.set_ylabel(\"Error Balance in Destination\")\n",
    "\n",
    "        # Plot transactions for the destination account error vs amount\n",
    "    else:\n",
    "        ax1.plot(X.loc[(Y == 0)&(X.errorBalanceDestination <=0)].Amount, X.loc[(Y == 0)&(X.errorBalanceDestination <=0)].errorBalanceDestination,label='Negative errorBalanceDest')\n",
    "        ax1.plot(X.loc[(Y == 0)&(X.errorBalanceDestination >0)].Amount, X.loc[(Y == 0)&(X.errorBalanceDestination >0)].errorBalanceDestination,label='Positive errorBalanceDest')\n",
    "\n",
    "        ax2.plot(X.loc[(Y == 1)&(X.errorBalanceDestination <=0)].Amount, X.loc[(Y == 1)&(X.errorBalanceDestination <=0)].errorBalanceDestination, label='Negative errorBalanceDest')\n",
    "        ax2.plot(X.loc[(Y == 1)&(X.errorBalanceDestination >0)].Amount, X.loc[(Y == 1)&(X.errorBalanceDestination >0)].errorBalanceDestination, label='Positive errorBalanceDest')\n",
    "        ax1.set_ylabel(\"Error Balance in Destination\")\n",
    "    \n",
    "    ax1.set_xlabel(\"Amount\")\n",
    "    ax1.set_title('No-fraudulent Transactions')\n",
    "    ax1.legend()\n",
    "\n",
    "    ax2.set_xlabel(\"Amount\")\n",
    "    #ax2.set_ylabel(\"Error Balance in Destination\")\n",
    "    ax2.set_title('Fraudulent Transactions')\n",
    "    ax2.legend()\n",
    "\n",
    "    plt.show()\n"
   ]
  },
  {
   "cell_type": "code",
   "execution_count": 27,
   "metadata": {},
   "outputs": [
    {
     "data": {
      "image/png": "[encoded data removed]",
      "text/plain": [
       "<Figure size 1008x288 with 2 Axes>"
      ]
     },
     "metadata": {
      "needs_background": "light"
     },
     "output_type": "display_data"
    }
   ],
   "source": [
    "plotErrorsVsAmount(X[['Amount','errorBalanceDestination']], Y, False)"
   ]
  },
  {
   "cell_type": "code",
   "execution_count": 28,
   "metadata": {},
   "outputs": [
    {
     "data": {
      "image/png": "[encoded data removed]",
      "text/plain": [
       "<Figure size 1008x288 with 2 Axes>"
      ]
     },
     "metadata": {
      "needs_background": "light"
     },
     "output_type": "display_data"
    }
   ],
   "source": [
    "plotErrorsVsAmount(X[['Amount','errorBalanceOrigin']], Y)"
   ]
  },
  {
   "cell_type": "markdown",
   "metadata": {},
   "source": [
    "We can see from the previous graphs that in both cases, in origin and destination accounts there is a positive error, indicating that the balance registers more money than the expected after the transacted amount was deducted from the account. Thus, this is an abnormal behaviour, which certainly can be used to model a ML algorithm to make predictions to identify if a transaction is fraudulent."
   ]
  },
  {
   "cell_type": "markdown",
   "metadata": {
    "_cell_guid": "66741241-13b4-43a1-8d7c-cd7d00b0a9b0",
    "_uuid": "163be4b95059fc219b9544b8fc674744278b1e19"
   },
   "source": [
    "<a href='#top'>back to top</a>"
   ]
  },
  {
   "cell_type": "markdown",
   "metadata": {
    "_cell_guid": "2ebd6fa3-c63d-4115-ac81-7baf2fd74c02",
    "_uuid": "6268491fc5cf2f438b44d082bcadc463dd4736fa"
   },
   "source": [
    "The plot below shows that the transacted amount in fraudulent transactions is concentrated in short amounts of money, which confirms the previous conclusion in section <a id='analysingdata'> 2.4 Analising Data</a>."
   ]
  },
  {
   "cell_type": "code",
   "execution_count": 29,
   "metadata": {
    "_cell_guid": "1676906a-a4f0-43bf-8db9-3131e4928343",
    "_uuid": "84a8bf0739d49fadf2fbc9dfd2ccce8fd0abc0cc"
   },
   "outputs": [
    {
     "name": "stderr",
     "output_type": "stream",
     "text": [
      "C:\\ProgramData\\Anaconda3\\lib\\site-packages\\seaborn\\_decorators.py:36: FutureWarning: Pass the following variables as keyword args: x, y. From version 0.12, the only valid positional argument will be `data`, and passing other arguments without an explicit keyword will result in an error or misinterpretation.\n",
      "  warnings.warn(\n"
     ]
    },
    {
     "data": {
      "image/png": "[encoded data removed]",
      "text/plain": [
       "<Figure size 720x432 with 1 Axes>"
      ]
     },
     "metadata": {
      "needs_background": "light"
     },
     "output_type": "display_data"
    }
   ],
   "source": [
    "# To plot the label 'Y' against the column 'Amount'\n",
    "\n",
    "fig = plt.figure(figsize=(10, 6))\n",
    "colours = plt.cm.tab10(np.linspace(0, 1, 9))\n",
    "with sns.axes_style('ticks'):\n",
    "     ax = sns.stripplot(Y[:len(Y)], X.Amount[:len(X.Amount)], hue = X.TransactionType[:len(X.TransactionType)], jitter = 0.4, marker = '.', \\\n",
    "          size = 4, palette = colours)\n",
    "     ax.set_xlabel('')\n",
    "     ax.set_xticklabels(['No-fraudulent', 'Fraudulent'], size = 16)\n",
    "     for axis in ['top','bottom','left','right']:\n",
    "         ax.spines[axis].set_linewidth(2)\n",
    "\n",
    "     handles, labels = ax.get_legend_handles_labels()\n",
    "     plt.legend(handles, ['TRANSFER', 'CASH_OUT'], bbox_to_anchor=(1, 1), loc=2, borderaxespad=0, fontsize = 16);\n",
    "        \n",
    "ax.set_ylabel('Amount', size = 16)\n",
    "#ax.set_title('Non-fraudulent and fraudulent transactions over the Amount column', size = 18);\n",
    "\n",
    "plt.show()"
   ]
  },
  {
   "cell_type": "markdown",
   "metadata": {
    "_cell_guid": "135942c5-8f86-4272-9eab-f611ea1ec0f7",
    "_uuid": "999e4e0f6f76825860d0449aebad58dffed9b325"
   },
   "source": [
    "<a href='#top'>back to top</a>"
   ]
  },
  {
   "cell_type": "markdown",
   "metadata": {
    "_cell_guid": "2ebd6fa3-c63d-4115-ac81-7baf2fd74c02",
    "_uuid": "6268491fc5cf2f438b44d082bcadc463dd4736fa"
   },
   "source": [
    "The correlation matrix plot below confirms that the transacted amount in fraudulent transactions has a strong correlation with the account balances, and with the created columns: errorBalanceOrigin and errorBalanceDestination."
   ]
  },
  {
   "cell_type": "code",
   "execution_count": 30,
   "metadata": {
    "_cell_guid": "66d77c97-6da1-48f5-83ca-ef3412e2d2bd",
    "_uuid": "a9c3802f68e765be4450b6f48178e99c0ec9bf68"
   },
   "outputs": [
    {
     "data": {
      "image/png": "[encoded data removed]",
      "text/plain": [
       "<Figure size 720x432 with 2 Axes>"
      ]
     },
     "metadata": {
      "needs_background": "light"
     },
     "output_type": "display_data"
    }
   ],
   "source": [
    "# To plot the correlation matrix for the fraudulent transactions\n",
    "\n",
    "Xfraud = X.loc[Y == 1] # Clean up Xfraud\n",
    "                  \n",
    "correlationFraud = Xfraud.loc[:, X.columns != 'Step'].corr() # Get the correlation matrix for the the fraudulent transactions\n",
    "mask = np.zeros_like(correlationFraud)\n",
    "indices = np.triu_indices_from(correlationFraud)\n",
    "mask[indices] = True\n",
    "\n",
    "grid_kws = {\"width_ratios\": (.9, .05), \"wspace\": 0.2}\n",
    "\n",
    "# Create the plot\n",
    "f, (ax, cbar_ax) = plt.subplots(1, 2, gridspec_kw=grid_kws, \\\n",
    "                                     figsize = (10, 6)) \n",
    "\n",
    "cmap = sns.diverging_palette(220, 8, as_cmap=True)\n",
    "\n",
    "# Create a heatmap for the correlation matrix\n",
    "ax =sns.heatmap(correlationFraud, ax = ax, vmin = -1, vmax = 1, \\\n",
    "    cmap = cmap, square = True, linewidths = 0.5, mask = mask,  \\\n",
    "    cbar_ax = cbar_ax, cbar_kws={'orientation': 'vertical', \\\n",
    "                                 'ticks': [-1, -0.5, 0, 0.5, 1]})\n",
    "\n",
    "ax.set_xticklabels(ax.get_xticklabels(), size = 10); # Set the x labels\n",
    "ax.set_yticklabels(ax.get_yticklabels(), size = 10); # Set the y labels\n",
    "ax.set_title('Correlation Matrix of the Fraudulent Transactions.', size = 12) # Set the plot title\n",
    "\n",
    "cbar_ax.set_yticklabels(cbar_ax.get_yticklabels(), size = 12);\n",
    "\n"
   ]
  },
  {
   "cell_type": "markdown",
   "metadata": {
    "_cell_guid": "efe41a6c-472d-4135-b759-6e929dcb1bfd",
    "_uuid": "4473f9e3365ae8dadc0538c2451b6bcf37abaca4"
   },
   "source": [
    "<a href='#top'>back to top</a>"
   ]
  },
  {
   "cell_type": "markdown",
   "metadata": {
    "_cell_guid": "3f2ee030-3b87-4d26-b635-c1eeb7a4fd20",
    "_uuid": "12707e17588726f8c19aa299cad9bf910ab26340"
   },
   "source": [
    "<a id='modeling'></a>\n",
    "#### 4. Modeling"
   ]
  },
  {
   "cell_type": "markdown",
   "metadata": {},
   "source": [
    "For answering the question: <a id='fraud-preds'>1.5 Is it possible to predict that a specific transaction is suspicious of fraud?</a>"
   ]
  },
  {
   "cell_type": "markdown",
   "metadata": {
    "_cell_guid": "20171a3c-f922-424d-84ac-86a3805ee540",
    "_uuid": "7cc3d6277f20cdd9e3f4c8ff7d76070a087e57ca"
   },
   "source": [
    "In this section, it be will modelled a suitable ML algorithm to make accurate predictions for detecting if a transaction is fraudulent, based on the dataset including the engineered features."
   ]
  },
  {
   "cell_type": "markdown",
   "metadata": {
    "_cell_guid": "6f02a6bb-08db-41b6-b0d1-2076e49a47e8",
    "_uuid": "b8e9aab218faffb19fa309eb3ef754d2cc58c4a4"
   },
   "source": [
    "<a id='ModelSelection'></a>\n",
    "#### 4.1. Model Selection "
   ]
  },
  {
   "cell_type": "markdown",
   "metadata": {
    "_cell_guid": "6e3d45e6-5bf7-4c97-845f-3a3bce01252c",
    "_uuid": "ac08bdf806601f6b0921d60c2a37aa58f4798b82"
   },
   "source": [
    "The metric to score precision (instead to recall) will be the precision-recall curve (AUPRC) (see <a href='http://pages.cs.wisc.edu/~jdavis/davisgoadrichcamera2.pdf'>Davis and Goadrich, 2006</a>, since this suitable for managing imbalanced datasets."
   ]
  },
  {
   "cell_type": "markdown",
   "metadata": {
    "_cell_guid": "4fd4a2b9-6263-4ea1-af2f-c48ede10185d",
    "_uuid": "9f13c320f7146a08509f7edeb5d2b885057d6de4"
   },
   "source": [
    "The first attempt would be to train a ML algorithm based on ensembles of decision trees, in order to manage imbalanced data, which is the case of the fraud transactions compared to the no-fraudulent transactions in this dataset. For this purpose, it will be used the extreme gradient-boosted (XGBoost) algorithm (a random forest implementation). This algorithm would manage the weightings between the positive (fraudulent transactions) and negative classes (non-fraudulent transactions).\n"
   ]
  },
  {
   "cell_type": "markdown",
   "metadata": {
    "_cell_guid": "f8e836d8-94e9-44eb-ac73-27260555583f",
    "_uuid": "cbbd628b5ec1f1bc7346be24e27b8d02f8206cd1"
   },
   "source": [
    "The data split will be, training data in 80% and test data in 20%."
   ]
  },
  {
   "cell_type": "markdown",
   "metadata": {
    "_cell_guid": "efe41a6c-472d-4135-b759-6e929dcb1bfd",
    "_uuid": "4473f9e3365ae8dadc0538c2451b6bcf37abaca4"
   },
   "source": [
    "<a href='#top'>back to top</a>"
   ]
  },
  {
   "cell_type": "markdown",
   "metadata": {
    "_cell_guid": "6f02a6bb-08db-41b6-b0d1-2076e49a47e8",
    "_uuid": "b8e9aab218faffb19fa309eb3ef754d2cc58c4a4"
   },
   "source": [
    "<a id='ModelTraining'></a>\n",
    "#### 4.2 Model Training and Testing "
   ]
  },
  {
   "cell_type": "code",
   "execution_count": 31,
   "metadata": {
    "_cell_guid": "d42493c5-061b-4b5e-8a51-ac4b77ddb7e8",
    "_uuid": "86740e8f7845c4eb12f979f5e7af87be19022110"
   },
   "outputs": [],
   "source": [
    "# To get the same sample distribution\n",
    "randomState = 5\n",
    "np.random.seed(randomState)\n",
    "\n",
    "XTrain, XTest, YTrain, YTest = train_test_split(X, Y, test_size = 0.2, random_state = randomState)"
   ]
  },
  {
   "cell_type": "code",
   "execution_count": 32,
   "metadata": {
    "_cell_guid": "7a1c6c5c-564d-4f10-9b48-02d2e287d82f",
    "_uuid": "bd071708fd0b0b93fdbd973fce9126f91f8dd871"
   },
   "outputs": [
    {
     "name": "stdout",
     "output_type": "stream",
     "text": [
      "The probabilities average AUPRC is = 0.9970161789625528\n"
     ]
    }
   ],
   "source": [
    "# To train a extreme gradient boost model\n",
    "\n",
    "weights = (Y == 0).sum() / (1.0 * (Y == 1).sum())\n",
    "clf = XGBClassifier(max_depth = 3, scale_pos_weight = weights, n_jobs = 3)\n",
    "XGBoostModel = clf.fit(XTrain, YTrain)\n",
    "\n",
    "# To get the probabilities predictions\n",
    "\n",
    "probas = XGBoostModel.predict_proba(XTest)\n",
    "print('The probabilities average AUPRC is = {}'.format(average_precision_score(YTest, probas[:, 1])))"
   ]
  },
  {
   "cell_type": "code",
   "execution_count": 33,
   "metadata": {},
   "outputs": [
    {
     "name": "stdout",
     "output_type": "stream",
     "text": [
      "[[9.9999875e-01 1.2434482e-06]\n",
      " [9.9999917e-01 8.0900645e-07]\n",
      " [1.0000000e+00 8.3881469e-15]\n",
      " [1.0000000e+00 1.4599245e-09]\n",
      " [9.9983144e-01 1.6853685e-04]]\n"
     ]
    }
   ],
   "source": [
    "print(probas[:5])"
   ]
  },
  {
   "cell_type": "markdown",
   "metadata": {
    "_cell_guid": "c4cd5e93-8038-4cba-a48d-f3e227db1f54",
    "_uuid": "ed0275e8371cc951382844a61def5a9c994e4d78"
   },
   "source": [
    "<a href='#top'>back to top</a>"
   ]
  },
  {
   "cell_type": "markdown",
   "metadata": {
    "_cell_guid": "6fa793ac-7f64-43cb-aaaf-6851c04d392f",
    "_uuid": "94c7e03bafa5665d824d279c1786e5325667ec4a"
   },
   "source": [
    "The figure below shows that the new feature *errorBalanceOrig* that we created is the most relevant feature for the model. The features are ordered based on the number of samples affected by splits on those features."
   ]
  },
  {
   "cell_type": "code",
   "execution_count": 34,
   "metadata": {
    "_cell_guid": "e9af0368-f772-4170-b827-4ef4ccb1faca",
    "_uuid": "b35967bb8e6fb4beb337404eca84963632461b3a"
   },
   "outputs": [
    {
     "data": {
      "image/png": "[encoded data removed]",
      "text/plain": [
       "<Figure size 1008x648 with 1 Axes>"
      ]
     },
     "metadata": {
      "needs_background": "light"
     },
     "output_type": "display_data"
    }
   ],
   "source": [
    "fig = plt.figure(figsize = (14, 9))\n",
    "ax = fig.add_subplot(111)\n",
    "\n",
    "colours = plt.cm.Set1(np.linspace(0, 1, 9))\n",
    "\n",
    "ax = plot_importance(clf, height = 1, color = colours, grid = False, \\\n",
    "                     show_values = False, importance_type = 'cover', ax = ax);\n",
    "for axis in ['top','bottom','left','right']:\n",
    "            ax.spines[axis].set_linewidth(2)\n",
    "        \n",
    "ax.set_xlabel('importance score', size = 16);\n",
    "ax.set_ylabel('features', size = 16);\n",
    "ax.set_yticklabels(ax.get_yticklabels(), size = 12);\n",
    "ax.set_title('Ordering of features by importance to the model learnt', size = 20);"
   ]
  },
  {
   "cell_type": "markdown",
   "metadata": {
    "_cell_guid": "22e04a16-6c8a-4d38-8ceb-cb1dfd3ff678",
    "_uuid": "d8214340ed92a6a3f0d26a56d48d3f6590caee5a"
   },
   "source": [
    "<a href='#top'>back to top</a>"
   ]
  },
  {
   "cell_type": "markdown",
   "metadata": {
    "_cell_guid": "6f02a6bb-08db-41b6-b0d1-2076e49a47e8",
    "_uuid": "b8e9aab218faffb19fa309eb3ef754d2cc58c4a4"
   },
   "source": [
    "<a id='ModelVisualization'></a>\n",
    "#### 4.3 Model Visualization"
   ]
  },
  {
   "cell_type": "markdown",
   "metadata": {
    "_cell_guid": "ae38a6b4-c275-4f8a-a4aa-6a4d91310d8d",
    "_uuid": "1544cb3d28eccc1b87ddb997a5bfbc262cc94b03"
   },
   "source": [
    "The root node\n",
    "in the decision tree visualized below is indeed\n",
    "the feature *errorBalanceOrig*, \n",
    "as would be expected from its high significance to the\n",
    "model."
   ]
  },
  {
   "cell_type": "code",
   "execution_count": 35,
   "metadata": {
    "_cell_guid": "04396421-7f99-48fe-9cfb-46ddfbd7e5cc",
    "_uuid": "e1a97efd238503a62344a85123dc40ca14bd74ae"
   },
   "outputs": [
    {
     "data": {
      "image/svg+xml": [
       "<?xml version=\"1.0\" encoding=\"UTF-8\" standalone=\"no\"?>\r\n",
       "<!DOCTYPE svg PUBLIC \"-//W3C//DTD SVG 1.1//EN\"\r\n",
       " \"http://www.w3.org/Graphics/SVG/1.1/DTD/svg11.dtd\">\r\n",
       "<!-- Generated by graphviz version 2.44.1 (20200629.0846)\r\n",
       " -->\r\n",
       "<!-- Pages: 1 -->\r\n",
       "<svg width=\"1028pt\" height=\"305pt\"\r\n",
       " viewBox=\"0.00 0.00 1028.39 305.00\" xmlns=\"http://www.w3.org/2000/svg\" xmlns:xlink=\"http://www.w3.org/1999/xlink\">\r\n",
       "<g id=\"graph0\" class=\"graph\" transform=\"scale(1 1) rotate(0) translate(4 301)\">\r\n",
       "<polygon fill=\"white\" stroke=\"transparent\" points=\"-4,4 -4,-301 1024.39,-301 1024.39,4 -4,4\"/>\r\n",
       "<!-- 0 -->\r\n",
       "<g id=\"node1\" class=\"node\">\r\n",
       "<title>0</title>\r\n",
       "<ellipse fill=\"none\" stroke=\"black\" cx=\"389.39\" cy=\"-279\" rx=\"141.88\" ry=\"18\"/>\r\n",
       "<text text-anchor=\"middle\" x=\"389.39\" y=\"-275.3\" font-family=\"Times New Roman,serif\" font-size=\"14.00\">errorBalanceOrigin&lt;1.77635684e&#45;15</text>\r\n",
       "</g>\r\n",
       "<!-- 1 -->\r\n",
       "<g id=\"node2\" class=\"node\">\r\n",
       "<title>1</title>\r\n",
       "<ellipse fill=\"none\" stroke=\"black\" cx=\"255.39\" cy=\"-192\" rx=\"129.98\" ry=\"18\"/>\r\n",
       "<text text-anchor=\"middle\" x=\"255.39\" y=\"-188.3\" font-family=\"Times New Roman,serif\" font-size=\"14.00\">NewBalanceOrigin&lt;0.104999997</text>\r\n",
       "</g>\r\n",
       "<!-- 0&#45;&gt;1 -->\r\n",
       "<g id=\"edge1\" class=\"edge\">\r\n",
       "<title>0&#45;&gt;1</title>\r\n",
       "<path fill=\"none\" stroke=\"#ff0000\" d=\"M362.92,-261.21C342.18,-248.05 313.14,-229.63 290.47,-215.25\"/>\r\n",
       "<polygon fill=\"#ff0000\" stroke=\"#ff0000\" points=\"292.13,-212.16 281.81,-209.76 288.38,-218.07 292.13,-212.16\"/>\r\n",
       "<text text-anchor=\"middle\" x=\"338.89\" y=\"-231.8\" font-family=\"Times New Roman,serif\" font-size=\"14.00\">no</text>\r\n",
       "</g>\r\n",
       "<!-- 2 -->\r\n",
       "<g id=\"node3\" class=\"node\">\r\n",
       "<title>2</title>\r\n",
       "<ellipse fill=\"none\" stroke=\"black\" cx=\"526.39\" cy=\"-192\" rx=\"120.78\" ry=\"18\"/>\r\n",
       "<text text-anchor=\"middle\" x=\"526.39\" y=\"-188.3\" font-family=\"Times New Roman,serif\" font-size=\"14.00\">NewBalanceOrigin&lt;3165424.5</text>\r\n",
       "</g>\r\n",
       "<!-- 0&#45;&gt;2 -->\r\n",
       "<g id=\"edge2\" class=\"edge\">\r\n",
       "<title>0&#45;&gt;2</title>\r\n",
       "<path fill=\"none\" stroke=\"#0000ff\" d=\"M416.46,-261.21C437.76,-247.99 467.61,-229.47 490.84,-215.06\"/>\r\n",
       "<polygon fill=\"#0000ff\" stroke=\"#0000ff\" points=\"492.73,-218 499.38,-209.76 489.04,-212.06 492.73,-218\"/>\r\n",
       "<text text-anchor=\"middle\" x=\"500.89\" y=\"-231.8\" font-family=\"Times New Roman,serif\" font-size=\"14.00\">yes, missing</text>\r\n",
       "</g>\r\n",
       "<!-- 3 -->\r\n",
       "<g id=\"node4\" class=\"node\">\r\n",
       "<title>3</title>\r\n",
       "<ellipse fill=\"none\" stroke=\"black\" cx=\"75.39\" cy=\"-105\" rx=\"75.29\" ry=\"18\"/>\r\n",
       "<text text-anchor=\"middle\" x=\"75.39\" y=\"-101.3\" font-family=\"Times New Roman,serif\" font-size=\"14.00\">leaf=0.599998891</text>\r\n",
       "</g>\r\n",
       "<!-- 1&#45;&gt;3 -->\r\n",
       "<g id=\"edge3\" class=\"edge\">\r\n",
       "<title>1&#45;&gt;3</title>\r\n",
       "<path fill=\"none\" stroke=\"#ff0000\" d=\"M220.69,-174.61C191.15,-160.66 148.65,-140.59 117.24,-125.76\"/>\r\n",
       "<polygon fill=\"#ff0000\" stroke=\"#ff0000\" points=\"118.41,-122.44 107.87,-121.34 115.42,-128.77 118.41,-122.44\"/>\r\n",
       "<text text-anchor=\"middle\" x=\"183.89\" y=\"-144.8\" font-family=\"Times New Roman,serif\" font-size=\"14.00\">no</text>\r\n",
       "</g>\r\n",
       "<!-- 4 -->\r\n",
       "<g id=\"node5\" class=\"node\">\r\n",
       "<title>4</title>\r\n",
       "<ellipse fill=\"none\" stroke=\"black\" cx=\"255.39\" cy=\"-105\" rx=\"87.18\" ry=\"18\"/>\r\n",
       "<text text-anchor=\"middle\" x=\"255.39\" y=\"-101.3\" font-family=\"Times New Roman,serif\" font-size=\"14.00\">Amount&lt;988812.375</text>\r\n",
       "</g>\r\n",
       "<!-- 1&#45;&gt;4 -->\r\n",
       "<g id=\"edge4\" class=\"edge\">\r\n",
       "<title>1&#45;&gt;4</title>\r\n",
       "<path fill=\"none\" stroke=\"#0000ff\" d=\"M255.39,-173.8C255.39,-162.16 255.39,-146.55 255.39,-133.24\"/>\r\n",
       "<polygon fill=\"#0000ff\" stroke=\"#0000ff\" points=\"258.89,-133.18 255.39,-123.18 251.89,-133.18 258.89,-133.18\"/>\r\n",
       "<text text-anchor=\"middle\" x=\"289.89\" y=\"-144.8\" font-family=\"Times New Roman,serif\" font-size=\"14.00\">yes, missing</text>\r\n",
       "</g>\r\n",
       "<!-- 5 -->\r\n",
       "<g id=\"node8\" class=\"node\">\r\n",
       "<title>5</title>\r\n",
       "<ellipse fill=\"none\" stroke=\"black\" cx=\"526.39\" cy=\"-105\" rx=\"112.38\" ry=\"18\"/>\r\n",
       "<text text-anchor=\"middle\" x=\"526.39\" y=\"-101.3\" font-family=\"Times New Roman,serif\" font-size=\"14.00\">OldBalanceDestination&lt;&#45;0.5</text>\r\n",
       "</g>\r\n",
       "<!-- 2&#45;&gt;5 -->\r\n",
       "<g id=\"edge7\" class=\"edge\">\r\n",
       "<title>2&#45;&gt;5</title>\r\n",
       "<path fill=\"none\" stroke=\"#0000ff\" d=\"M526.39,-173.8C526.39,-162.16 526.39,-146.55 526.39,-133.24\"/>\r\n",
       "<polygon fill=\"#0000ff\" stroke=\"#0000ff\" points=\"529.89,-133.18 526.39,-123.18 522.89,-133.18 529.89,-133.18\"/>\r\n",
       "<text text-anchor=\"middle\" x=\"560.89\" y=\"-144.8\" font-family=\"Times New Roman,serif\" font-size=\"14.00\">yes, missing</text>\r\n",
       "</g>\r\n",
       "<!-- 6 -->\r\n",
       "<g id=\"node9\" class=\"node\">\r\n",
       "<title>6</title>\r\n",
       "<ellipse fill=\"none\" stroke=\"black\" cx=\"771.39\" cy=\"-105\" rx=\"112.38\" ry=\"18\"/>\r\n",
       "<text text-anchor=\"middle\" x=\"771.39\" y=\"-101.3\" font-family=\"Times New Roman,serif\" font-size=\"14.00\">OldBalanceDestination&lt;&#45;0.5</text>\r\n",
       "</g>\r\n",
       "<!-- 2&#45;&gt;6 -->\r\n",
       "<g id=\"edge8\" class=\"edge\">\r\n",
       "<title>2&#45;&gt;6</title>\r\n",
       "<path fill=\"none\" stroke=\"#ff0000\" d=\"M571.9,-175.21C612.94,-160.97 673.37,-140.01 716.96,-124.89\"/>\r\n",
       "<polygon fill=\"#ff0000\" stroke=\"#ff0000\" points=\"718.24,-128.15 726.54,-121.56 715.95,-121.53 718.24,-128.15\"/>\r\n",
       "<text text-anchor=\"middle\" x=\"671.89\" y=\"-144.8\" font-family=\"Times New Roman,serif\" font-size=\"14.00\">no</text>\r\n",
       "</g>\r\n",
       "<!-- 7 -->\r\n",
       "<g id=\"node6\" class=\"node\">\r\n",
       "<title>7</title>\r\n",
       "<ellipse fill=\"none\" stroke=\"black\" cx=\"84.39\" cy=\"-18\" rx=\"77.99\" ry=\"18\"/>\r\n",
       "<text text-anchor=\"middle\" x=\"84.39\" y=\"-14.3\" font-family=\"Times New Roman,serif\" font-size=\"14.00\">leaf=&#45;0.597584844</text>\r\n",
       "</g>\r\n",
       "<!-- 4&#45;&gt;7 -->\r\n",
       "<g id=\"edge5\" class=\"edge\">\r\n",
       "<title>4&#45;&gt;7</title>\r\n",
       "<path fill=\"none\" stroke=\"#0000ff\" d=\"M222.24,-88.32C209.72,-82.34 195.37,-75.42 182.39,-69 163,-59.41 141.59,-48.52 123.74,-39.35\"/>\r\n",
       "<polygon fill=\"#0000ff\" stroke=\"#0000ff\" points=\"125.25,-36.19 114.75,-34.73 122.05,-42.42 125.25,-36.19\"/>\r\n",
       "<text text-anchor=\"middle\" x=\"216.89\" y=\"-57.8\" font-family=\"Times New Roman,serif\" font-size=\"14.00\">yes, missing</text>\r\n",
       "</g>\r\n",
       "<!-- 8 -->\r\n",
       "<g id=\"node7\" class=\"node\">\r\n",
       "<title>8</title>\r\n",
       "<ellipse fill=\"none\" stroke=\"black\" cx=\"255.39\" cy=\"-18\" rx=\"75.29\" ry=\"18\"/>\r\n",
       "<text text-anchor=\"middle\" x=\"255.39\" y=\"-14.3\" font-family=\"Times New Roman,serif\" font-size=\"14.00\">leaf=0.597532332</text>\r\n",
       "</g>\r\n",
       "<!-- 4&#45;&gt;8 -->\r\n",
       "<g id=\"edge6\" class=\"edge\">\r\n",
       "<title>4&#45;&gt;8</title>\r\n",
       "<path fill=\"none\" stroke=\"#ff0000\" d=\"M255.39,-86.8C255.39,-75.16 255.39,-59.55 255.39,-46.24\"/>\r\n",
       "<polygon fill=\"#ff0000\" stroke=\"#ff0000\" points=\"258.89,-46.18 255.39,-36.18 251.89,-46.18 258.89,-46.18\"/>\r\n",
       "<text text-anchor=\"middle\" x=\"262.89\" y=\"-57.8\" font-family=\"Times New Roman,serif\" font-size=\"14.00\">no</text>\r\n",
       "</g>\r\n",
       "<!-- 9 -->\r\n",
       "<g id=\"node10\" class=\"node\">\r\n",
       "<title>9</title>\r\n",
       "<ellipse fill=\"none\" stroke=\"black\" cx=\"426.39\" cy=\"-18\" rx=\"77.99\" ry=\"18\"/>\r\n",
       "<text text-anchor=\"middle\" x=\"426.39\" y=\"-14.3\" font-family=\"Times New Roman,serif\" font-size=\"14.00\">leaf=&#45;0.140967563</text>\r\n",
       "</g>\r\n",
       "<!-- 5&#45;&gt;9 -->\r\n",
       "<g id=\"edge9\" class=\"edge\">\r\n",
       "<title>5&#45;&gt;9</title>\r\n",
       "<path fill=\"none\" stroke=\"#0000ff\" d=\"M506.64,-87.21C491.47,-74.32 470.36,-56.38 453.6,-42.13\"/>\r\n",
       "<polygon fill=\"#0000ff\" stroke=\"#0000ff\" points=\"455.65,-39.28 445.77,-35.47 451.12,-44.61 455.65,-39.28\"/>\r\n",
       "<text text-anchor=\"middle\" x=\"516.89\" y=\"-57.8\" font-family=\"Times New Roman,serif\" font-size=\"14.00\">yes, missing</text>\r\n",
       "</g>\r\n",
       "<!-- 10 -->\r\n",
       "<g id=\"node11\" class=\"node\">\r\n",
       "<title>10</title>\r\n",
       "<ellipse fill=\"none\" stroke=\"black\" cx=\"600.39\" cy=\"-18\" rx=\"77.99\" ry=\"18\"/>\r\n",
       "<text text-anchor=\"middle\" x=\"600.39\" y=\"-14.3\" font-family=\"Times New Roman,serif\" font-size=\"14.00\">leaf=&#45;0.595271349</text>\r\n",
       "</g>\r\n",
       "<!-- 5&#45;&gt;10 -->\r\n",
       "<g id=\"edge10\" class=\"edge\">\r\n",
       "<title>5&#45;&gt;10</title>\r\n",
       "<path fill=\"none\" stroke=\"#ff0000\" d=\"M541.37,-86.8C552.17,-74.39 566.91,-57.46 578.96,-43.62\"/>\r\n",
       "<polygon fill=\"#ff0000\" stroke=\"#ff0000\" points=\"581.77,-45.73 585.69,-35.89 576.49,-41.13 581.77,-45.73\"/>\r\n",
       "<text text-anchor=\"middle\" x=\"575.89\" y=\"-57.8\" font-family=\"Times New Roman,serif\" font-size=\"14.00\">no</text>\r\n",
       "</g>\r\n",
       "<!-- 11 -->\r\n",
       "<g id=\"node12\" class=\"node\">\r\n",
       "<title>11</title>\r\n",
       "<ellipse fill=\"none\" stroke=\"black\" cx=\"771.39\" cy=\"-18\" rx=\"75.29\" ry=\"18\"/>\r\n",
       "<text text-anchor=\"middle\" x=\"771.39\" y=\"-14.3\" font-family=\"Times New Roman,serif\" font-size=\"14.00\">leaf=0.599643409</text>\r\n",
       "</g>\r\n",
       "<!-- 6&#45;&gt;11 -->\r\n",
       "<g id=\"edge11\" class=\"edge\">\r\n",
       "<title>6&#45;&gt;11</title>\r\n",
       "<path fill=\"none\" stroke=\"#0000ff\" d=\"M771.39,-86.8C771.39,-75.16 771.39,-59.55 771.39,-46.24\"/>\r\n",
       "<polygon fill=\"#0000ff\" stroke=\"#0000ff\" points=\"774.89,-46.18 771.39,-36.18 767.89,-46.18 774.89,-46.18\"/>\r\n",
       "<text text-anchor=\"middle\" x=\"805.89\" y=\"-57.8\" font-family=\"Times New Roman,serif\" font-size=\"14.00\">yes, missing</text>\r\n",
       "</g>\r\n",
       "<!-- 12 -->\r\n",
       "<g id=\"node13\" class=\"node\">\r\n",
       "<title>12</title>\r\n",
       "<ellipse fill=\"none\" stroke=\"black\" cx=\"942.39\" cy=\"-18\" rx=\"77.99\" ry=\"18\"/>\r\n",
       "<text text-anchor=\"middle\" x=\"942.39\" y=\"-14.3\" font-family=\"Times New Roman,serif\" font-size=\"14.00\">leaf=&#45;0.571084321</text>\r\n",
       "</g>\r\n",
       "<!-- 6&#45;&gt;12 -->\r\n",
       "<g id=\"edge12\" class=\"edge\">\r\n",
       "<title>6&#45;&gt;12</title>\r\n",
       "<path fill=\"none\" stroke=\"#ff0000\" d=\"M805.64,-87.79C817.9,-81.94 831.8,-75.23 844.39,-69 863.78,-59.41 885.2,-48.52 903.05,-39.35\"/>\r\n",
       "<polygon fill=\"#ff0000\" stroke=\"#ff0000\" points=\"904.74,-42.42 912.03,-34.73 901.54,-36.19 904.74,-42.42\"/>\r\n",
       "<text text-anchor=\"middle\" x=\"880.89\" y=\"-57.8\" font-family=\"Times New Roman,serif\" font-size=\"14.00\">no</text>\r\n",
       "</g>\r\n",
       "</g>\r\n",
       "</svg>\r\n"
      ],
      "text/plain": [
       "<graphviz.files.Source at 0x1e02d396f40>"
      ]
     },
     "execution_count": 35,
     "metadata": {},
     "output_type": "execute_result"
    }
   ],
   "source": [
    "# To plot the resulted decision tree from the previous trained algorithm\n",
    "to_graphviz(clf)"
   ]
  },
  {
   "cell_type": "markdown",
   "metadata": {
    "_cell_guid": "8fd6c0a7-fcf8-4156-bfc3-b5750a14ab4d",
    "_uuid": "de5a2f6830171ff4eb6a40b988889b3f3c5481ac"
   },
   "source": [
    "<a href='#top'>back to top</a>"
   ]
  },
  {
   "cell_type": "markdown",
   "metadata": {
    "_cell_guid": "3f2ee030-3b87-4d26-b635-c1eeb7a4fd20",
    "_uuid": "12707e17588726f8c19aa299cad9bf910ab26340"
   },
   "source": [
    "<a id='evaluation'></a>\n",
    "#### 5. Evaluation"
   ]
  },
  {
   "cell_type": "markdown",
   "metadata": {
    "_cell_guid": "2c86eea7-b47b-41ab-a017-dbfae8d786a7",
    "_uuid": "3f76f0347b415c84510e13acb215137ecce33ab5"
   },
   "source": [
    "<a id='biasvariance'></a>\n",
    "##### 5.1 Bias-variance tradeoff"
   ]
  },
  {
   "cell_type": "markdown",
   "metadata": {
    "_cell_guid": "b803b53d-5252-41d1-b4fd-fbd7385f8c0b",
    "_uuid": "16cc77c6138aa736c7792c1f8d574cf627ae2c36"
   },
   "source": [
    "The AUPRC is shown in the cross-validation curve plot below, which indicates that the model has some bias and then might be little bit underfitted. Thus, the trees' depth can be increased to make the model more complex and to correct the underfitting (max_depth parameter, even this will make the performance time longer), and other possibilities to use for getting a precise result (for underfitting) would be decreasing min_child_weight and decreasing reg_lambda.\n",
    "\n",
    "Therefore, in this analysis it will be tried the first approach which is to increase the trees' depth from 3 to 4. From the results below, it can be observed that the AUPRC is improved."
   ]
  },
  {
   "cell_type": "code",
   "execution_count": 36,
   "metadata": {
    "_cell_guid": "b88b43b8-89fe-4cee-819f-b6b46361571b",
    "_uuid": "e4798a9cbd5bfa22d0f8ba16b3854e98e7e92039"
   },
   "outputs": [],
   "source": [
    "# Creating the learning curves for the XGBC classifier with a 3 tree depth\n",
    "\n",
    "trainingSizes, trainingScores, crossValidationScores = learning_curve(\\\n",
    "XGBClassifier(max_depth = 3, scale_pos_weight = weights, n_jobs = 4), XTrain,\\\n",
    "                                         YTrain, scoring = 'average_precision')"
   ]
  },
  {
   "cell_type": "code",
   "execution_count": 38,
   "metadata": {
    "_cell_guid": "ca081d48-0036-4f48-a15d-80cb56e982a7",
    "_uuid": "b422b057cef6b2cced3c65faac5182232350bf70"
   },
   "outputs": [
    {
     "data": {
      "image/png": "[encoded data removed]",
      "text/plain": [
       "<Figure size 1008x648 with 1 Axes>"
      ]
     },
     "metadata": {
      "needs_background": "light"
     },
     "output_type": "display_data"
    }
   ],
   "source": [
    "# Plotting the leaning curve for the algorith XGBC classifier\n",
    "\n",
    "TScoresMean = np.mean(trainingScores, axis=1)\n",
    "TScoresStd = np.std(trainingScores, axis=1)\n",
    "crossValidationScoresMean = np.mean(crossValidationScores, axis=1)\n",
    "crossValidationScoresStd = np.std(crossValidationScores, axis=1)\n",
    "\n",
    "colours = plt.cm.tab10(np.linspace(0, 1, 9))\n",
    "\n",
    "fig = plt.figure(figsize = (14, 9))\n",
    "plt.fill_between(trainingSizes, TScoresMean - TScoresStd,\n",
    "    TScoresMean + TScoresStd, alpha=0.1, color=colours[0])\n",
    "plt.fill_between(trainingSizes, crossValidationScoresMean - crossValidationScoresStd,\n",
    "    crossValidationScoresMean + crossValidationScoresStd, alpha=0.1, color=colours[1])\n",
    "plt.plot(trainingSizes, trainingScores.mean(axis = 1), 'o-', label = 'train', \\\n",
    "         color = colours[0])\n",
    "plt.plot(trainingSizes, crossValidationScores.mean(axis = 1), 'o-', label = 'cross-val', \\\n",
    "         color = colours[1])\n",
    "\n",
    "ax = plt.gca()\n",
    "for axis in ['top','bottom','left','right']:\n",
    "    ax.spines[axis].set_linewidth(2)\n",
    "\n",
    "handles, labels = ax.get_legend_handles_labels()\n",
    "plt.legend(handles, ['Training', 'Cross-validation'], bbox_to_anchor=(0.8, 0.15), \\\n",
    "               loc=2, borderaxespad=0, fontsize = 16);\n",
    "plt.xlabel('Size of the training dataset.', size = 16); \n",
    "plt.ylabel('AUPRC', size = 16)\n",
    "plt.title('Learning curves', size = 20);"
   ]
  },
  {
   "cell_type": "code",
   "execution_count": 39,
   "metadata": {},
   "outputs": [
    {
     "name": "stdout",
     "output_type": "stream",
     "text": [
      "The probabilities average AUPRC is = 0.9982123093121237\n"
     ]
    }
   ],
   "source": [
    "# To train a extreme gradient boost model with a deeper tree's level, in order 4.\n",
    "\n",
    "weights = (Y == 0).sum() / (1.0 * (Y == 1).sum())\n",
    "clf = XGBClassifier(max_depth = 4, scale_pos_weight = weights, n_jobs = 3)\n",
    "XGBoostModel = clf.fit(XTrain, YTrain)\n",
    "\n",
    "# To get the probabilities predictions\n",
    "\n",
    "probas = XGBoostModel.predict_proba(XTest)\n",
    "print('The probabilities average AUPRC is = {}'.format(average_precision_score(YTest, probas[:, 1])))"
   ]
  },
  {
   "cell_type": "markdown",
   "metadata": {
    "_cell_guid": "cd22e56b-b8b3-40d9-94f4-51dc715e9223",
    "_uuid": "81f70a751db2e89b9aeda667d09f3fd7c332a0d1"
   },
   "source": [
    "<a href='#top'>back to top</a>"
   ]
  },
  {
   "cell_type": "markdown",
   "metadata": {
    "_cell_guid": "3f2ee030-3b87-4d26-b635-c1eeb7a4fd20",
    "_uuid": "12707e17588726f8c19aa299cad9bf910ab26340"
   },
   "source": [
    "<a id='deployment'></a>\n",
    "#### 6. Deployment"
   ]
  },
  {
   "cell_type": "markdown",
   "metadata": {},
   "source": [
    "This model is suitable to be deployed in a real setting, however, the computation times should be changed, by adjusting the ML algorithm's parameters, in order to be used with quasi real-time requirements."
   ]
  },
  {
   "cell_type": "markdown",
   "metadata": {
    "_cell_guid": "9bc93ea2-99cf-45ad-96e8-de74b99069b2",
    "_uuid": "8ecccea57c03137cdd21bc4cc88dcb972c918507"
   },
   "source": [
    "<a id='conclusion'></a>\n",
    "#### 7. Conclusion"
   ]
  },
  {
   "cell_type": "markdown",
   "metadata": {
    "_cell_guid": "d3aed614-e781-4b7b-b3ed-d51b0e90acc5",
    "_uuid": "865f045bae5f6570f9c0a430fbef484a73606a74"
   },
   "source": [
    "1. The proportion of fraudulent transactions compared to the non-fraudulent ones produces skew data. This imbalance in the collected data makes challenging to establish surveillance methods for fraud suspicious transactions.\n",
    "\n",
    "2. The transacted money in large amounts is not the main concern in money laundering, but the short-amount ones.\n",
    "\n",
    "3. Fraudulent transactions can occurred in either types, cash out or transfer, which means that fraudsters are using not only payment methods, but also transactions through financial institutions.\n",
    "\n",
    "4. An unchanged balance in origin and destination accounts with a non-zero transacted amount is a strong indicator of fraudulent transactions. This is particular recurrent in dormant or inactive accounts.\n",
    "\n",
    "5. It is possible to provide a method to predict if a transaction is suspicious, by the means of training ML algorithms, which allows to adjust the parameters to get precise results."
   ]
  },
  {
   "cell_type": "markdown",
   "metadata": {},
   "source": [
    "<b>Acknowledgements: </b>\n",
    "Thanks to EdgarLopez-Rojas <a href='https://www.researchgate.net/publication/313138956_PAYSIM_A_FINANCIAL_MOBILE_MONEY_SIMULATOR_FOR_FRAUD_DETECTION'>[1]</a> for providing the sythetic financial data, which has been so helpful for this analysis, and to Jesin Fahad <a href='https://www.kaggle.com/jesyfax/predicting-fraud-in-financial-payment-services'>[2]</a> for her excellent data and ML analysis, from which I've learnt a lot.\n",
    "<p><b>References: </b>\n",
    "[1] E. A. Lopez-Rojas , A. Elmir, and S. Axelsson. \"PaySim: A financial mobile money simulator for fraud detection\". In: The 28th European Modeling and Simulation Symposium-EMSS, Larnaca, Cyprus. 2016.</p>\n",
    "\n",
    "Link to complete data: https://www.kaggle.com/ntnu-testimon/paysim1\n"
   ]
  },
  {
   "cell_type": "markdown",
   "metadata": {
    "_cell_guid": "9a61ccc1-8b89-46e4-93e0-fa50826c4c66",
    "_uuid": "1d03269b9fa12761dc250cf307899b2f13700072"
   },
   "source": [
    "<a href='#top'>back to top</a>"
   ]
  },
  {
   "cell_type": "code",
   "execution_count": null,
   "metadata": {},
   "outputs": [],
   "source": []
  }
 ],
 "metadata": {
  "anaconda-cloud": {},
  "kernelspec": {
   "display_name": "Python 3",
   "language": "python",
   "name": "python3"
  },
  "language_info": {
   "codemirror_mode": {
    "name": "ipython",
    "version": 3
   },
   "file_extension": ".py",
   "mimetype": "text/x-python",
   "name": "python",
   "nbconvert_exporter": "python",
   "pygments_lexer": "ipython3",
   "version": "3.8.5"
  }
 },
 "nbformat": 4,
 "nbformat_minor": 1
}
